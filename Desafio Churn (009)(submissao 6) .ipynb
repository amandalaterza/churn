{
 "cells": [
  {
   "cell_type": "code",
   "execution_count": 131,
   "metadata": {},
   "outputs": [],
   "source": [
    "import pandas as pd\n",
    "import numpy as np\n",
    "\n",
    "%matplotlib inline\n",
    "import matplotlib.pyplot as plt\n",
    "import seaborn as sns\n",
    "\n",
    "from sklearn.linear_model import LogisticRegression"
   ]
  },
  {
   "cell_type": "code",
   "execution_count": 132,
   "metadata": {},
   "outputs": [],
   "source": [
    "import sklearn as sk\n",
    "import matplotlib.pyplot as plt"
   ]
  },
  {
   "cell_type": "code",
   "execution_count": 133,
   "metadata": {},
   "outputs": [],
   "source": [
    "train = pd.read_csv('train.csv',sep=',')"
   ]
  },
  {
   "cell_type": "code",
   "execution_count": 134,
   "metadata": {},
   "outputs": [
    {
     "data": {
      "text/plain": [
       "0.2653532126375577"
      ]
     },
     "execution_count": 134,
     "metadata": {},
     "output_type": "execute_result"
    }
   ],
   "source": [
    "#balanceamento da base\n",
    "train.Churn.sum()/train.shape[0]  #está bom o balanceamento. até 10, 15% ta bom"
   ]
  },
  {
   "cell_type": "code",
   "execution_count": 135,
   "metadata": {},
   "outputs": [],
   "source": [
    "test = pd.read_csv('test.csv', sep=',')"
   ]
  },
  {
   "cell_type": "markdown",
   "metadata": {},
   "source": [
    "### Juntar train e test pq as mudanças que vou fazer tem que ser nas duas pra depois rodar na base test tmbm"
   ]
  },
  {
   "cell_type": "code",
   "execution_count": 136,
   "metadata": {},
   "outputs": [],
   "source": [
    "#para juntar treino e teste tem que ter mesmas colunas \n",
    "test['Churn'] = 9999\n",
    "test['test'] = 1\n",
    "train['test'] = 0"
   ]
  },
  {
   "cell_type": "code",
   "execution_count": 137,
   "metadata": {},
   "outputs": [
    {
     "data": {
      "text/plain": [
       "(1409, 22)"
      ]
     },
     "execution_count": 137,
     "metadata": {},
     "output_type": "execute_result"
    }
   ],
   "source": [
    "test.shape"
   ]
  },
  {
   "cell_type": "code",
   "execution_count": 138,
   "metadata": {
    "scrolled": true
   },
   "outputs": [
    {
     "data": {
      "text/html": [
       "<div>\n",
       "<style scoped>\n",
       "    .dataframe tbody tr th:only-of-type {\n",
       "        vertical-align: middle;\n",
       "    }\n",
       "\n",
       "    .dataframe tbody tr th {\n",
       "        vertical-align: top;\n",
       "    }\n",
       "\n",
       "    .dataframe thead th {\n",
       "        text-align: right;\n",
       "    }\n",
       "</style>\n",
       "<table border=\"1\" class=\"dataframe\">\n",
       "  <thead>\n",
       "    <tr style=\"text-align: right;\">\n",
       "      <th></th>\n",
       "      <th>id</th>\n",
       "      <th>gender</th>\n",
       "      <th>SeniorCitizen</th>\n",
       "      <th>Partner</th>\n",
       "      <th>Dependents</th>\n",
       "      <th>tenure</th>\n",
       "      <th>PhoneService</th>\n",
       "      <th>MultipleLines</th>\n",
       "      <th>InternetService</th>\n",
       "      <th>OnlineSecurity</th>\n",
       "      <th>...</th>\n",
       "      <th>TechSupport</th>\n",
       "      <th>StreamingTV</th>\n",
       "      <th>StreamingMovies</th>\n",
       "      <th>Contract</th>\n",
       "      <th>PaperlessBilling</th>\n",
       "      <th>PaymentMethod</th>\n",
       "      <th>MonthlyCharges</th>\n",
       "      <th>TotalCharges</th>\n",
       "      <th>Churn</th>\n",
       "      <th>test</th>\n",
       "    </tr>\n",
       "  </thead>\n",
       "  <tbody>\n",
       "    <tr>\n",
       "      <th>0</th>\n",
       "      <td>5027</td>\n",
       "      <td>Male</td>\n",
       "      <td>0</td>\n",
       "      <td>Yes</td>\n",
       "      <td>Yes</td>\n",
       "      <td>23.0</td>\n",
       "      <td>Yes</td>\n",
       "      <td>No</td>\n",
       "      <td>No</td>\n",
       "      <td>No internet service</td>\n",
       "      <td>...</td>\n",
       "      <td>No internet service</td>\n",
       "      <td>No internet service</td>\n",
       "      <td>No internet service</td>\n",
       "      <td>One year</td>\n",
       "      <td>Yes</td>\n",
       "      <td>Credit card (automatic)</td>\n",
       "      <td>20.00</td>\n",
       "      <td>445.3</td>\n",
       "      <td>9999</td>\n",
       "      <td>1</td>\n",
       "    </tr>\n",
       "    <tr>\n",
       "      <th>1</th>\n",
       "      <td>1733</td>\n",
       "      <td>Male</td>\n",
       "      <td>1</td>\n",
       "      <td>Yes</td>\n",
       "      <td>Yes</td>\n",
       "      <td>61.0</td>\n",
       "      <td>Yes</td>\n",
       "      <td>Yes</td>\n",
       "      <td>Fiber optic</td>\n",
       "      <td>No</td>\n",
       "      <td>...</td>\n",
       "      <td>No</td>\n",
       "      <td>Yes</td>\n",
       "      <td>Yes</td>\n",
       "      <td>One year</td>\n",
       "      <td>No</td>\n",
       "      <td>NaN</td>\n",
       "      <td>99.00</td>\n",
       "      <td>5969.3</td>\n",
       "      <td>9999</td>\n",
       "      <td>1</td>\n",
       "    </tr>\n",
       "    <tr>\n",
       "      <th>2</th>\n",
       "      <td>5384</td>\n",
       "      <td>Male</td>\n",
       "      <td>0</td>\n",
       "      <td>No</td>\n",
       "      <td>No</td>\n",
       "      <td>36.0</td>\n",
       "      <td>Yes</td>\n",
       "      <td>Yes</td>\n",
       "      <td>Fiber optic</td>\n",
       "      <td>No</td>\n",
       "      <td>...</td>\n",
       "      <td>No</td>\n",
       "      <td>No</td>\n",
       "      <td>Yes</td>\n",
       "      <td>Month-to-month</td>\n",
       "      <td>Yes</td>\n",
       "      <td>Electronic check</td>\n",
       "      <td>84.75</td>\n",
       "      <td>3050.15</td>\n",
       "      <td>9999</td>\n",
       "      <td>1</td>\n",
       "    </tr>\n",
       "    <tr>\n",
       "      <th>3</th>\n",
       "      <td>6554</td>\n",
       "      <td>Female</td>\n",
       "      <td>0</td>\n",
       "      <td>Yes</td>\n",
       "      <td>Yes</td>\n",
       "      <td>61.0</td>\n",
       "      <td>No</td>\n",
       "      <td>No phone service</td>\n",
       "      <td>DSL</td>\n",
       "      <td>No</td>\n",
       "      <td>...</td>\n",
       "      <td>Yes</td>\n",
       "      <td>Yes</td>\n",
       "      <td>Yes</td>\n",
       "      <td>Two year</td>\n",
       "      <td>Yes</td>\n",
       "      <td>Bank transfer (automatic)</td>\n",
       "      <td>61.45</td>\n",
       "      <td>3751.15</td>\n",
       "      <td>9999</td>\n",
       "      <td>1</td>\n",
       "    </tr>\n",
       "    <tr>\n",
       "      <th>4</th>\n",
       "      <td>364</td>\n",
       "      <td>Female</td>\n",
       "      <td>0</td>\n",
       "      <td>No</td>\n",
       "      <td>No</td>\n",
       "      <td>47.0</td>\n",
       "      <td>Yes</td>\n",
       "      <td>No</td>\n",
       "      <td>No</td>\n",
       "      <td>No internet service</td>\n",
       "      <td>...</td>\n",
       "      <td>No internet service</td>\n",
       "      <td>No internet service</td>\n",
       "      <td>No internet service</td>\n",
       "      <td>Two year</td>\n",
       "      <td>Yes</td>\n",
       "      <td>Mailed check</td>\n",
       "      <td>20.55</td>\n",
       "      <td>945.7</td>\n",
       "      <td>9999</td>\n",
       "      <td>1</td>\n",
       "    </tr>\n",
       "  </tbody>\n",
       "</table>\n",
       "<p>5 rows × 22 columns</p>\n",
       "</div>"
      ],
      "text/plain": [
       "     id  gender  SeniorCitizen Partner Dependents  tenure PhoneService  \\\n",
       "0  5027    Male              0     Yes        Yes    23.0          Yes   \n",
       "1  1733    Male              1     Yes        Yes    61.0          Yes   \n",
       "2  5384    Male              0      No         No    36.0          Yes   \n",
       "3  6554  Female              0     Yes        Yes    61.0           No   \n",
       "4   364  Female              0      No         No    47.0          Yes   \n",
       "\n",
       "      MultipleLines InternetService       OnlineSecurity  ...  \\\n",
       "0                No              No  No internet service  ...   \n",
       "1               Yes     Fiber optic                   No  ...   \n",
       "2               Yes     Fiber optic                   No  ...   \n",
       "3  No phone service             DSL                   No  ...   \n",
       "4                No              No  No internet service  ...   \n",
       "\n",
       "           TechSupport          StreamingTV      StreamingMovies  \\\n",
       "0  No internet service  No internet service  No internet service   \n",
       "1                   No                  Yes                  Yes   \n",
       "2                   No                   No                  Yes   \n",
       "3                  Yes                  Yes                  Yes   \n",
       "4  No internet service  No internet service  No internet service   \n",
       "\n",
       "         Contract PaperlessBilling              PaymentMethod MonthlyCharges  \\\n",
       "0        One year              Yes    Credit card (automatic)          20.00   \n",
       "1        One year               No                        NaN          99.00   \n",
       "2  Month-to-month              Yes           Electronic check          84.75   \n",
       "3        Two year              Yes  Bank transfer (automatic)          61.45   \n",
       "4        Two year              Yes               Mailed check          20.55   \n",
       "\n",
       "  TotalCharges  Churn test  \n",
       "0        445.3   9999    1  \n",
       "1       5969.3   9999    1  \n",
       "2      3050.15   9999    1  \n",
       "3      3751.15   9999    1  \n",
       "4        945.7   9999    1  \n",
       "\n",
       "[5 rows x 22 columns]"
      ]
     },
     "execution_count": 138,
     "metadata": {},
     "output_type": "execute_result"
    }
   ],
   "source": [
    "test.head()"
   ]
  },
  {
   "cell_type": "code",
   "execution_count": 139,
   "metadata": {},
   "outputs": [
    {
     "data": {
      "text/html": [
       "<div>\n",
       "<style scoped>\n",
       "    .dataframe tbody tr th:only-of-type {\n",
       "        vertical-align: middle;\n",
       "    }\n",
       "\n",
       "    .dataframe tbody tr th {\n",
       "        vertical-align: top;\n",
       "    }\n",
       "\n",
       "    .dataframe thead th {\n",
       "        text-align: right;\n",
       "    }\n",
       "</style>\n",
       "<table border=\"1\" class=\"dataframe\">\n",
       "  <thead>\n",
       "    <tr style=\"text-align: right;\">\n",
       "      <th></th>\n",
       "      <th>id</th>\n",
       "      <th>gender</th>\n",
       "      <th>SeniorCitizen</th>\n",
       "      <th>Partner</th>\n",
       "      <th>Dependents</th>\n",
       "      <th>tenure</th>\n",
       "      <th>PhoneService</th>\n",
       "      <th>MultipleLines</th>\n",
       "      <th>InternetService</th>\n",
       "      <th>OnlineSecurity</th>\n",
       "      <th>...</th>\n",
       "      <th>TechSupport</th>\n",
       "      <th>StreamingTV</th>\n",
       "      <th>StreamingMovies</th>\n",
       "      <th>Contract</th>\n",
       "      <th>PaperlessBilling</th>\n",
       "      <th>PaymentMethod</th>\n",
       "      <th>MonthlyCharges</th>\n",
       "      <th>TotalCharges</th>\n",
       "      <th>Churn</th>\n",
       "      <th>test</th>\n",
       "    </tr>\n",
       "  </thead>\n",
       "  <tbody>\n",
       "    <tr>\n",
       "      <th>0</th>\n",
       "      <td>4030</td>\n",
       "      <td>Female</td>\n",
       "      <td>0</td>\n",
       "      <td>No</td>\n",
       "      <td>No</td>\n",
       "      <td>56.0</td>\n",
       "      <td>No</td>\n",
       "      <td>No phone service</td>\n",
       "      <td>DSL</td>\n",
       "      <td>Yes</td>\n",
       "      <td>...</td>\n",
       "      <td>Yes</td>\n",
       "      <td>No</td>\n",
       "      <td>No</td>\n",
       "      <td>Two year</td>\n",
       "      <td>No</td>\n",
       "      <td>NaN</td>\n",
       "      <td>45.05</td>\n",
       "      <td>2560.1</td>\n",
       "      <td>0</td>\n",
       "      <td>0</td>\n",
       "    </tr>\n",
       "    <tr>\n",
       "      <th>1</th>\n",
       "      <td>6731</td>\n",
       "      <td>Male</td>\n",
       "      <td>0</td>\n",
       "      <td>Yes</td>\n",
       "      <td>Yes</td>\n",
       "      <td>NaN</td>\n",
       "      <td>Yes</td>\n",
       "      <td>No</td>\n",
       "      <td>No</td>\n",
       "      <td>No internet service</td>\n",
       "      <td>...</td>\n",
       "      <td>No internet service</td>\n",
       "      <td>No internet service</td>\n",
       "      <td>No internet service</td>\n",
       "      <td>One year</td>\n",
       "      <td>No</td>\n",
       "      <td>Mailed check</td>\n",
       "      <td>19.65</td>\n",
       "      <td>332.65</td>\n",
       "      <td>0</td>\n",
       "      <td>0</td>\n",
       "    </tr>\n",
       "    <tr>\n",
       "      <th>2</th>\n",
       "      <td>6479</td>\n",
       "      <td>Female</td>\n",
       "      <td>0</td>\n",
       "      <td>Yes</td>\n",
       "      <td>No</td>\n",
       "      <td>60.0</td>\n",
       "      <td>Yes</td>\n",
       "      <td>Yes</td>\n",
       "      <td>Fiber optic</td>\n",
       "      <td>No</td>\n",
       "      <td>...</td>\n",
       "      <td>Yes</td>\n",
       "      <td>Yes</td>\n",
       "      <td>Yes</td>\n",
       "      <td>Two year</td>\n",
       "      <td>Yes</td>\n",
       "      <td>Credit card (automatic)</td>\n",
       "      <td>110.80</td>\n",
       "      <td>6640.7</td>\n",
       "      <td>0</td>\n",
       "      <td>0</td>\n",
       "    </tr>\n",
       "    <tr>\n",
       "      <th>3</th>\n",
       "      <td>6861</td>\n",
       "      <td>Female</td>\n",
       "      <td>0</td>\n",
       "      <td>No</td>\n",
       "      <td>No</td>\n",
       "      <td>37.0</td>\n",
       "      <td>Yes</td>\n",
       "      <td>Yes</td>\n",
       "      <td>Fiber optic</td>\n",
       "      <td>No</td>\n",
       "      <td>...</td>\n",
       "      <td>No</td>\n",
       "      <td>Yes</td>\n",
       "      <td>Yes</td>\n",
       "      <td>Month-to-month</td>\n",
       "      <td>Yes</td>\n",
       "      <td>Bank transfer (automatic)</td>\n",
       "      <td>101.90</td>\n",
       "      <td>3545.35</td>\n",
       "      <td>1</td>\n",
       "      <td>0</td>\n",
       "    </tr>\n",
       "    <tr>\n",
       "      <th>4</th>\n",
       "      <td>3266</td>\n",
       "      <td>Male</td>\n",
       "      <td>0</td>\n",
       "      <td>Yes</td>\n",
       "      <td>Yes</td>\n",
       "      <td>29.0</td>\n",
       "      <td>Yes</td>\n",
       "      <td>No</td>\n",
       "      <td>Fiber optic</td>\n",
       "      <td>No</td>\n",
       "      <td>...</td>\n",
       "      <td>No</td>\n",
       "      <td>No</td>\n",
       "      <td>No</td>\n",
       "      <td>Month-to-month</td>\n",
       "      <td>Yes</td>\n",
       "      <td>Electronic check</td>\n",
       "      <td>70.75</td>\n",
       "      <td>1974.8</td>\n",
       "      <td>1</td>\n",
       "      <td>0</td>\n",
       "    </tr>\n",
       "  </tbody>\n",
       "</table>\n",
       "<p>5 rows × 22 columns</p>\n",
       "</div>"
      ],
      "text/plain": [
       "     id  gender  SeniorCitizen Partner Dependents  tenure PhoneService  \\\n",
       "0  4030  Female              0      No         No    56.0           No   \n",
       "1  6731    Male              0     Yes        Yes     NaN          Yes   \n",
       "2  6479  Female              0     Yes         No    60.0          Yes   \n",
       "3  6861  Female              0      No         No    37.0          Yes   \n",
       "4  3266    Male              0     Yes        Yes    29.0          Yes   \n",
       "\n",
       "      MultipleLines InternetService       OnlineSecurity  ...  \\\n",
       "0  No phone service             DSL                  Yes  ...   \n",
       "1                No              No  No internet service  ...   \n",
       "2               Yes     Fiber optic                   No  ...   \n",
       "3               Yes     Fiber optic                   No  ...   \n",
       "4                No     Fiber optic                   No  ...   \n",
       "\n",
       "           TechSupport          StreamingTV      StreamingMovies  \\\n",
       "0                  Yes                   No                   No   \n",
       "1  No internet service  No internet service  No internet service   \n",
       "2                  Yes                  Yes                  Yes   \n",
       "3                   No                  Yes                  Yes   \n",
       "4                   No                   No                   No   \n",
       "\n",
       "         Contract PaperlessBilling              PaymentMethod MonthlyCharges  \\\n",
       "0        Two year               No                        NaN          45.05   \n",
       "1        One year               No               Mailed check          19.65   \n",
       "2        Two year              Yes    Credit card (automatic)         110.80   \n",
       "3  Month-to-month              Yes  Bank transfer (automatic)         101.90   \n",
       "4  Month-to-month              Yes           Electronic check          70.75   \n",
       "\n",
       "  TotalCharges  Churn test  \n",
       "0       2560.1      0    0  \n",
       "1       332.65      0    0  \n",
       "2       6640.7      0    0  \n",
       "3      3545.35      1    0  \n",
       "4       1974.8      1    0  \n",
       "\n",
       "[5 rows x 22 columns]"
      ]
     },
     "execution_count": 139,
     "metadata": {},
     "output_type": "execute_result"
    }
   ],
   "source": [
    "train.head()"
   ]
  },
  {
   "cell_type": "code",
   "execution_count": 140,
   "metadata": {
    "scrolled": true
   },
   "outputs": [],
   "source": [
    "#unindo treino e teste\n",
    "frames = [train, test]\n",
    "\n",
    "df = pd.concat(frames, ignore_index=True)"
   ]
  },
  {
   "cell_type": "code",
   "execution_count": 141,
   "metadata": {
    "scrolled": false
   },
   "outputs": [
    {
     "data": {
      "text/html": [
       "<div>\n",
       "<style scoped>\n",
       "    .dataframe tbody tr th:only-of-type {\n",
       "        vertical-align: middle;\n",
       "    }\n",
       "\n",
       "    .dataframe tbody tr th {\n",
       "        vertical-align: top;\n",
       "    }\n",
       "\n",
       "    .dataframe thead th {\n",
       "        text-align: right;\n",
       "    }\n",
       "</style>\n",
       "<table border=\"1\" class=\"dataframe\">\n",
       "  <thead>\n",
       "    <tr style=\"text-align: right;\">\n",
       "      <th></th>\n",
       "      <th>id</th>\n",
       "      <th>gender</th>\n",
       "      <th>SeniorCitizen</th>\n",
       "      <th>Partner</th>\n",
       "      <th>Dependents</th>\n",
       "      <th>tenure</th>\n",
       "      <th>PhoneService</th>\n",
       "      <th>MultipleLines</th>\n",
       "      <th>InternetService</th>\n",
       "      <th>OnlineSecurity</th>\n",
       "      <th>...</th>\n",
       "      <th>TechSupport</th>\n",
       "      <th>StreamingTV</th>\n",
       "      <th>StreamingMovies</th>\n",
       "      <th>Contract</th>\n",
       "      <th>PaperlessBilling</th>\n",
       "      <th>PaymentMethod</th>\n",
       "      <th>MonthlyCharges</th>\n",
       "      <th>TotalCharges</th>\n",
       "      <th>Churn</th>\n",
       "      <th>test</th>\n",
       "    </tr>\n",
       "  </thead>\n",
       "  <tbody>\n",
       "    <tr>\n",
       "      <th>0</th>\n",
       "      <td>4030</td>\n",
       "      <td>Female</td>\n",
       "      <td>0</td>\n",
       "      <td>No</td>\n",
       "      <td>No</td>\n",
       "      <td>56.0</td>\n",
       "      <td>No</td>\n",
       "      <td>No phone service</td>\n",
       "      <td>DSL</td>\n",
       "      <td>Yes</td>\n",
       "      <td>...</td>\n",
       "      <td>Yes</td>\n",
       "      <td>No</td>\n",
       "      <td>No</td>\n",
       "      <td>Two year</td>\n",
       "      <td>No</td>\n",
       "      <td>NaN</td>\n",
       "      <td>45.05</td>\n",
       "      <td>2560.1</td>\n",
       "      <td>0</td>\n",
       "      <td>0</td>\n",
       "    </tr>\n",
       "    <tr>\n",
       "      <th>1</th>\n",
       "      <td>6731</td>\n",
       "      <td>Male</td>\n",
       "      <td>0</td>\n",
       "      <td>Yes</td>\n",
       "      <td>Yes</td>\n",
       "      <td>NaN</td>\n",
       "      <td>Yes</td>\n",
       "      <td>No</td>\n",
       "      <td>No</td>\n",
       "      <td>No internet service</td>\n",
       "      <td>...</td>\n",
       "      <td>No internet service</td>\n",
       "      <td>No internet service</td>\n",
       "      <td>No internet service</td>\n",
       "      <td>One year</td>\n",
       "      <td>No</td>\n",
       "      <td>Mailed check</td>\n",
       "      <td>19.65</td>\n",
       "      <td>332.65</td>\n",
       "      <td>0</td>\n",
       "      <td>0</td>\n",
       "    </tr>\n",
       "    <tr>\n",
       "      <th>2</th>\n",
       "      <td>6479</td>\n",
       "      <td>Female</td>\n",
       "      <td>0</td>\n",
       "      <td>Yes</td>\n",
       "      <td>No</td>\n",
       "      <td>60.0</td>\n",
       "      <td>Yes</td>\n",
       "      <td>Yes</td>\n",
       "      <td>Fiber optic</td>\n",
       "      <td>No</td>\n",
       "      <td>...</td>\n",
       "      <td>Yes</td>\n",
       "      <td>Yes</td>\n",
       "      <td>Yes</td>\n",
       "      <td>Two year</td>\n",
       "      <td>Yes</td>\n",
       "      <td>Credit card (automatic)</td>\n",
       "      <td>110.80</td>\n",
       "      <td>6640.7</td>\n",
       "      <td>0</td>\n",
       "      <td>0</td>\n",
       "    </tr>\n",
       "    <tr>\n",
       "      <th>3</th>\n",
       "      <td>6861</td>\n",
       "      <td>Female</td>\n",
       "      <td>0</td>\n",
       "      <td>No</td>\n",
       "      <td>No</td>\n",
       "      <td>37.0</td>\n",
       "      <td>Yes</td>\n",
       "      <td>Yes</td>\n",
       "      <td>Fiber optic</td>\n",
       "      <td>No</td>\n",
       "      <td>...</td>\n",
       "      <td>No</td>\n",
       "      <td>Yes</td>\n",
       "      <td>Yes</td>\n",
       "      <td>Month-to-month</td>\n",
       "      <td>Yes</td>\n",
       "      <td>Bank transfer (automatic)</td>\n",
       "      <td>101.90</td>\n",
       "      <td>3545.35</td>\n",
       "      <td>1</td>\n",
       "      <td>0</td>\n",
       "    </tr>\n",
       "    <tr>\n",
       "      <th>4</th>\n",
       "      <td>3266</td>\n",
       "      <td>Male</td>\n",
       "      <td>0</td>\n",
       "      <td>Yes</td>\n",
       "      <td>Yes</td>\n",
       "      <td>29.0</td>\n",
       "      <td>Yes</td>\n",
       "      <td>No</td>\n",
       "      <td>Fiber optic</td>\n",
       "      <td>No</td>\n",
       "      <td>...</td>\n",
       "      <td>No</td>\n",
       "      <td>No</td>\n",
       "      <td>No</td>\n",
       "      <td>Month-to-month</td>\n",
       "      <td>Yes</td>\n",
       "      <td>Electronic check</td>\n",
       "      <td>70.75</td>\n",
       "      <td>1974.8</td>\n",
       "      <td>1</td>\n",
       "      <td>0</td>\n",
       "    </tr>\n",
       "    <tr>\n",
       "      <th>...</th>\n",
       "      <td>...</td>\n",
       "      <td>...</td>\n",
       "      <td>...</td>\n",
       "      <td>...</td>\n",
       "      <td>...</td>\n",
       "      <td>...</td>\n",
       "      <td>...</td>\n",
       "      <td>...</td>\n",
       "      <td>...</td>\n",
       "      <td>...</td>\n",
       "      <td>...</td>\n",
       "      <td>...</td>\n",
       "      <td>...</td>\n",
       "      <td>...</td>\n",
       "      <td>...</td>\n",
       "      <td>...</td>\n",
       "      <td>...</td>\n",
       "      <td>...</td>\n",
       "      <td>...</td>\n",
       "      <td>...</td>\n",
       "      <td>...</td>\n",
       "    </tr>\n",
       "    <tr>\n",
       "      <th>7038</th>\n",
       "      <td>4897</td>\n",
       "      <td>Male</td>\n",
       "      <td>0</td>\n",
       "      <td>No</td>\n",
       "      <td>NaN</td>\n",
       "      <td>24.0</td>\n",
       "      <td>Yes</td>\n",
       "      <td>No</td>\n",
       "      <td>DSL</td>\n",
       "      <td>No</td>\n",
       "      <td>...</td>\n",
       "      <td>No</td>\n",
       "      <td>No</td>\n",
       "      <td>No</td>\n",
       "      <td>Month-to-month</td>\n",
       "      <td>Yes</td>\n",
       "      <td>Mailed check</td>\n",
       "      <td>49.70</td>\n",
       "      <td>1167.8</td>\n",
       "      <td>9999</td>\n",
       "      <td>1</td>\n",
       "    </tr>\n",
       "    <tr>\n",
       "      <th>7039</th>\n",
       "      <td>6940</td>\n",
       "      <td>Male</td>\n",
       "      <td>0</td>\n",
       "      <td>No</td>\n",
       "      <td>No</td>\n",
       "      <td>35.0</td>\n",
       "      <td>Yes</td>\n",
       "      <td>No</td>\n",
       "      <td>Fiber optic</td>\n",
       "      <td>Yes</td>\n",
       "      <td>...</td>\n",
       "      <td>Yes</td>\n",
       "      <td>No</td>\n",
       "      <td>Yes</td>\n",
       "      <td>One year</td>\n",
       "      <td>Yes</td>\n",
       "      <td>Electronic check</td>\n",
       "      <td>89.20</td>\n",
       "      <td>3251.3</td>\n",
       "      <td>9999</td>\n",
       "      <td>1</td>\n",
       "    </tr>\n",
       "    <tr>\n",
       "      <th>7040</th>\n",
       "      <td>804</td>\n",
       "      <td>Female</td>\n",
       "      <td>0</td>\n",
       "      <td>Yes</td>\n",
       "      <td>No</td>\n",
       "      <td>46.0</td>\n",
       "      <td>Yes</td>\n",
       "      <td>No</td>\n",
       "      <td>DSL</td>\n",
       "      <td>No</td>\n",
       "      <td>...</td>\n",
       "      <td>Yes</td>\n",
       "      <td>Yes</td>\n",
       "      <td>No</td>\n",
       "      <td>Two year</td>\n",
       "      <td>Yes</td>\n",
       "      <td>Credit card (automatic)</td>\n",
       "      <td>64.20</td>\n",
       "      <td>3009.5</td>\n",
       "      <td>9999</td>\n",
       "      <td>1</td>\n",
       "    </tr>\n",
       "    <tr>\n",
       "      <th>7041</th>\n",
       "      <td>1143</td>\n",
       "      <td>Male</td>\n",
       "      <td>1</td>\n",
       "      <td>Yes</td>\n",
       "      <td>Yes</td>\n",
       "      <td>11.0</td>\n",
       "      <td>Yes</td>\n",
       "      <td>Yes</td>\n",
       "      <td>Fiber optic</td>\n",
       "      <td>No</td>\n",
       "      <td>...</td>\n",
       "      <td>No</td>\n",
       "      <td>No</td>\n",
       "      <td>No</td>\n",
       "      <td>Month-to-month</td>\n",
       "      <td>Yes</td>\n",
       "      <td>Credit card (automatic)</td>\n",
       "      <td>75.20</td>\n",
       "      <td>775.3</td>\n",
       "      <td>9999</td>\n",
       "      <td>1</td>\n",
       "    </tr>\n",
       "    <tr>\n",
       "      <th>7042</th>\n",
       "      <td>5773</td>\n",
       "      <td>Male</td>\n",
       "      <td>0</td>\n",
       "      <td>Yes</td>\n",
       "      <td>Yes</td>\n",
       "      <td>69.0</td>\n",
       "      <td>Yes</td>\n",
       "      <td>Yes</td>\n",
       "      <td>DSL</td>\n",
       "      <td>No</td>\n",
       "      <td>...</td>\n",
       "      <td>Yes</td>\n",
       "      <td>Yes</td>\n",
       "      <td>Yes</td>\n",
       "      <td>Two year</td>\n",
       "      <td>Yes</td>\n",
       "      <td>Bank transfer (automatic)</td>\n",
       "      <td>81.95</td>\n",
       "      <td>5601.4</td>\n",
       "      <td>9999</td>\n",
       "      <td>1</td>\n",
       "    </tr>\n",
       "  </tbody>\n",
       "</table>\n",
       "<p>7043 rows × 22 columns</p>\n",
       "</div>"
      ],
      "text/plain": [
       "        id  gender  SeniorCitizen Partner Dependents  tenure PhoneService  \\\n",
       "0     4030  Female              0      No         No    56.0           No   \n",
       "1     6731    Male              0     Yes        Yes     NaN          Yes   \n",
       "2     6479  Female              0     Yes         No    60.0          Yes   \n",
       "3     6861  Female              0      No         No    37.0          Yes   \n",
       "4     3266    Male              0     Yes        Yes    29.0          Yes   \n",
       "...    ...     ...            ...     ...        ...     ...          ...   \n",
       "7038  4897    Male              0      No        NaN    24.0          Yes   \n",
       "7039  6940    Male              0      No         No    35.0          Yes   \n",
       "7040   804  Female              0     Yes         No    46.0          Yes   \n",
       "7041  1143    Male              1     Yes        Yes    11.0          Yes   \n",
       "7042  5773    Male              0     Yes        Yes    69.0          Yes   \n",
       "\n",
       "         MultipleLines InternetService       OnlineSecurity  ...  \\\n",
       "0     No phone service             DSL                  Yes  ...   \n",
       "1                   No              No  No internet service  ...   \n",
       "2                  Yes     Fiber optic                   No  ...   \n",
       "3                  Yes     Fiber optic                   No  ...   \n",
       "4                   No     Fiber optic                   No  ...   \n",
       "...                ...             ...                  ...  ...   \n",
       "7038                No             DSL                   No  ...   \n",
       "7039                No     Fiber optic                  Yes  ...   \n",
       "7040                No             DSL                   No  ...   \n",
       "7041               Yes     Fiber optic                   No  ...   \n",
       "7042               Yes             DSL                   No  ...   \n",
       "\n",
       "              TechSupport          StreamingTV      StreamingMovies  \\\n",
       "0                     Yes                   No                   No   \n",
       "1     No internet service  No internet service  No internet service   \n",
       "2                     Yes                  Yes                  Yes   \n",
       "3                      No                  Yes                  Yes   \n",
       "4                      No                   No                   No   \n",
       "...                   ...                  ...                  ...   \n",
       "7038                   No                   No                   No   \n",
       "7039                  Yes                   No                  Yes   \n",
       "7040                  Yes                  Yes                   No   \n",
       "7041                   No                   No                   No   \n",
       "7042                  Yes                  Yes                  Yes   \n",
       "\n",
       "            Contract PaperlessBilling              PaymentMethod  \\\n",
       "0           Two year               No                        NaN   \n",
       "1           One year               No               Mailed check   \n",
       "2           Two year              Yes    Credit card (automatic)   \n",
       "3     Month-to-month              Yes  Bank transfer (automatic)   \n",
       "4     Month-to-month              Yes           Electronic check   \n",
       "...              ...              ...                        ...   \n",
       "7038  Month-to-month              Yes               Mailed check   \n",
       "7039        One year              Yes           Electronic check   \n",
       "7040        Two year              Yes    Credit card (automatic)   \n",
       "7041  Month-to-month              Yes    Credit card (automatic)   \n",
       "7042        Two year              Yes  Bank transfer (automatic)   \n",
       "\n",
       "     MonthlyCharges TotalCharges  Churn test  \n",
       "0             45.05       2560.1      0    0  \n",
       "1             19.65       332.65      0    0  \n",
       "2            110.80       6640.7      0    0  \n",
       "3            101.90      3545.35      1    0  \n",
       "4             70.75       1974.8      1    0  \n",
       "...             ...          ...    ...  ...  \n",
       "7038          49.70       1167.8   9999    1  \n",
       "7039          89.20       3251.3   9999    1  \n",
       "7040          64.20       3009.5   9999    1  \n",
       "7041          75.20        775.3   9999    1  \n",
       "7042          81.95       5601.4   9999    1  \n",
       "\n",
       "[7043 rows x 22 columns]"
      ]
     },
     "execution_count": 141,
     "metadata": {},
     "output_type": "execute_result"
    }
   ],
   "source": [
    "df"
   ]
  },
  {
   "cell_type": "code",
   "execution_count": 142,
   "metadata": {},
   "outputs": [
    {
     "data": {
      "text/plain": [
       "(7043, 22)"
      ]
     },
     "execution_count": 142,
     "metadata": {},
     "output_type": "execute_result"
    }
   ],
   "source": [
    "df.shape"
   ]
  },
  {
   "cell_type": "code",
   "execution_count": 143,
   "metadata": {},
   "outputs": [
    {
     "data": {
      "text/plain": [
       "7043"
      ]
     },
     "execution_count": 143,
     "metadata": {},
     "output_type": "execute_result"
    }
   ],
   "source": [
    "#verificando se uniu corretamente train e test\n",
    "train.shape[0]+test.shape[0]"
   ]
  },
  {
   "cell_type": "code",
   "execution_count": 144,
   "metadata": {},
   "outputs": [
    {
     "data": {
      "text/plain": [
       "Month-to-month    791\n",
       "Two year          337\n",
       "One year          281\n",
       "Name: Contract, dtype: int64"
      ]
     },
     "execution_count": 144,
     "metadata": {},
     "output_type": "execute_result"
    }
   ],
   "source": [
    "test['Contract'].value_counts() #se fosse mes a mes poderia trocar por var ordinal"
   ]
  },
  {
   "cell_type": "code",
   "execution_count": 145,
   "metadata": {
    "scrolled": false
   },
   "outputs": [
    {
     "data": {
      "text/plain": [
       "Index(['gender', 'Partner', 'Dependents', 'PhoneService', 'MultipleLines',\n",
       "       'InternetService', 'OnlineSecurity', 'OnlineBackup', 'DeviceProtection',\n",
       "       'TechSupport', 'StreamingTV', 'StreamingMovies', 'Contract',\n",
       "       'PaperlessBilling', 'PaymentMethod', 'TotalCharges'],\n",
       "      dtype='object')"
      ]
     },
     "execution_count": 145,
     "metadata": {},
     "output_type": "execute_result"
    }
   ],
   "source": [
    "#colunas que são objects\n",
    "test.dtypes[test.dtypes=='object'].index"
   ]
  },
  {
   "cell_type": "code",
   "execution_count": 146,
   "metadata": {},
   "outputs": [
    {
     "data": {
      "text/plain": [
       "6931          \n",
       "6697          \n",
       "5947          \n",
       "2145          \n",
       "161           \n",
       "         ...  \n",
       "279     997.75\n",
       "6994     998.1\n",
       "2856    999.45\n",
       "1880     999.8\n",
       "6464     999.9\n",
       "Name: TotalCharges, Length: 7043, dtype: object"
      ]
     },
     "execution_count": 146,
     "metadata": {},
     "output_type": "execute_result"
    }
   ],
   "source": [
    "#nao susbstitui pq tem um espaço vazio que é string\n",
    "#pd.to_numeric(df['TotalCharges']) \n",
    "df.TotalCharges.sort_values()"
   ]
  },
  {
   "cell_type": "code",
   "execution_count": 147,
   "metadata": {},
   "outputs": [],
   "source": [
    "\n",
    "df.loc[df['TotalCharges'] == ' ','TotalCharges'] = 0"
   ]
  },
  {
   "cell_type": "code",
   "execution_count": 148,
   "metadata": {},
   "outputs": [],
   "source": [
    "#usar a var total charges. mudando de object para float\n",
    "df['TotalCharges'] = df['TotalCharges'].astype(float)"
   ]
  },
  {
   "cell_type": "code",
   "execution_count": 149,
   "metadata": {},
   "outputs": [
    {
     "data": {
      "text/plain": [
       "(7043, 22)"
      ]
     },
     "execution_count": 149,
     "metadata": {},
     "output_type": "execute_result"
    }
   ],
   "source": [
    "df.shape"
   ]
  },
  {
   "cell_type": "code",
   "execution_count": 150,
   "metadata": {},
   "outputs": [
    {
     "data": {
      "text/html": [
       "<div>\n",
       "<style scoped>\n",
       "    .dataframe tbody tr th:only-of-type {\n",
       "        vertical-align: middle;\n",
       "    }\n",
       "\n",
       "    .dataframe tbody tr th {\n",
       "        vertical-align: top;\n",
       "    }\n",
       "\n",
       "    .dataframe thead th {\n",
       "        text-align: right;\n",
       "    }\n",
       "</style>\n",
       "<table border=\"1\" class=\"dataframe\">\n",
       "  <thead>\n",
       "    <tr style=\"text-align: right;\">\n",
       "      <th></th>\n",
       "      <th>id</th>\n",
       "      <th>gender</th>\n",
       "      <th>SeniorCitizen</th>\n",
       "      <th>Partner</th>\n",
       "      <th>Dependents</th>\n",
       "      <th>tenure</th>\n",
       "      <th>PhoneService</th>\n",
       "      <th>MultipleLines</th>\n",
       "      <th>InternetService</th>\n",
       "      <th>OnlineSecurity</th>\n",
       "      <th>...</th>\n",
       "      <th>TechSupport</th>\n",
       "      <th>StreamingTV</th>\n",
       "      <th>StreamingMovies</th>\n",
       "      <th>Contract</th>\n",
       "      <th>PaperlessBilling</th>\n",
       "      <th>PaymentMethod</th>\n",
       "      <th>MonthlyCharges</th>\n",
       "      <th>TotalCharges</th>\n",
       "      <th>Churn</th>\n",
       "      <th>test</th>\n",
       "    </tr>\n",
       "  </thead>\n",
       "  <tbody>\n",
       "    <tr>\n",
       "      <th>0</th>\n",
       "      <td>4030</td>\n",
       "      <td>Female</td>\n",
       "      <td>0</td>\n",
       "      <td>No</td>\n",
       "      <td>No</td>\n",
       "      <td>56.0</td>\n",
       "      <td>No</td>\n",
       "      <td>No phone service</td>\n",
       "      <td>DSL</td>\n",
       "      <td>Yes</td>\n",
       "      <td>...</td>\n",
       "      <td>Yes</td>\n",
       "      <td>No</td>\n",
       "      <td>No</td>\n",
       "      <td>Two year</td>\n",
       "      <td>No</td>\n",
       "      <td>NaN</td>\n",
       "      <td>45.05</td>\n",
       "      <td>2560.10</td>\n",
       "      <td>0</td>\n",
       "      <td>0</td>\n",
       "    </tr>\n",
       "    <tr>\n",
       "      <th>1</th>\n",
       "      <td>6731</td>\n",
       "      <td>Male</td>\n",
       "      <td>0</td>\n",
       "      <td>Yes</td>\n",
       "      <td>Yes</td>\n",
       "      <td>NaN</td>\n",
       "      <td>Yes</td>\n",
       "      <td>No</td>\n",
       "      <td>No</td>\n",
       "      <td>No internet service</td>\n",
       "      <td>...</td>\n",
       "      <td>No internet service</td>\n",
       "      <td>No internet service</td>\n",
       "      <td>No internet service</td>\n",
       "      <td>One year</td>\n",
       "      <td>No</td>\n",
       "      <td>Mailed check</td>\n",
       "      <td>19.65</td>\n",
       "      <td>332.65</td>\n",
       "      <td>0</td>\n",
       "      <td>0</td>\n",
       "    </tr>\n",
       "    <tr>\n",
       "      <th>2</th>\n",
       "      <td>6479</td>\n",
       "      <td>Female</td>\n",
       "      <td>0</td>\n",
       "      <td>Yes</td>\n",
       "      <td>No</td>\n",
       "      <td>60.0</td>\n",
       "      <td>Yes</td>\n",
       "      <td>Yes</td>\n",
       "      <td>Fiber optic</td>\n",
       "      <td>No</td>\n",
       "      <td>...</td>\n",
       "      <td>Yes</td>\n",
       "      <td>Yes</td>\n",
       "      <td>Yes</td>\n",
       "      <td>Two year</td>\n",
       "      <td>Yes</td>\n",
       "      <td>Credit card (automatic)</td>\n",
       "      <td>110.80</td>\n",
       "      <td>6640.70</td>\n",
       "      <td>0</td>\n",
       "      <td>0</td>\n",
       "    </tr>\n",
       "    <tr>\n",
       "      <th>3</th>\n",
       "      <td>6861</td>\n",
       "      <td>Female</td>\n",
       "      <td>0</td>\n",
       "      <td>No</td>\n",
       "      <td>No</td>\n",
       "      <td>37.0</td>\n",
       "      <td>Yes</td>\n",
       "      <td>Yes</td>\n",
       "      <td>Fiber optic</td>\n",
       "      <td>No</td>\n",
       "      <td>...</td>\n",
       "      <td>No</td>\n",
       "      <td>Yes</td>\n",
       "      <td>Yes</td>\n",
       "      <td>Month-to-month</td>\n",
       "      <td>Yes</td>\n",
       "      <td>Bank transfer (automatic)</td>\n",
       "      <td>101.90</td>\n",
       "      <td>3545.35</td>\n",
       "      <td>1</td>\n",
       "      <td>0</td>\n",
       "    </tr>\n",
       "    <tr>\n",
       "      <th>4</th>\n",
       "      <td>3266</td>\n",
       "      <td>Male</td>\n",
       "      <td>0</td>\n",
       "      <td>Yes</td>\n",
       "      <td>Yes</td>\n",
       "      <td>29.0</td>\n",
       "      <td>Yes</td>\n",
       "      <td>No</td>\n",
       "      <td>Fiber optic</td>\n",
       "      <td>No</td>\n",
       "      <td>...</td>\n",
       "      <td>No</td>\n",
       "      <td>No</td>\n",
       "      <td>No</td>\n",
       "      <td>Month-to-month</td>\n",
       "      <td>Yes</td>\n",
       "      <td>Electronic check</td>\n",
       "      <td>70.75</td>\n",
       "      <td>1974.80</td>\n",
       "      <td>1</td>\n",
       "      <td>0</td>\n",
       "    </tr>\n",
       "  </tbody>\n",
       "</table>\n",
       "<p>5 rows × 22 columns</p>\n",
       "</div>"
      ],
      "text/plain": [
       "     id  gender  SeniorCitizen Partner Dependents  tenure PhoneService  \\\n",
       "0  4030  Female              0      No         No    56.0           No   \n",
       "1  6731    Male              0     Yes        Yes     NaN          Yes   \n",
       "2  6479  Female              0     Yes         No    60.0          Yes   \n",
       "3  6861  Female              0      No         No    37.0          Yes   \n",
       "4  3266    Male              0     Yes        Yes    29.0          Yes   \n",
       "\n",
       "      MultipleLines InternetService       OnlineSecurity  ...  \\\n",
       "0  No phone service             DSL                  Yes  ...   \n",
       "1                No              No  No internet service  ...   \n",
       "2               Yes     Fiber optic                   No  ...   \n",
       "3               Yes     Fiber optic                   No  ...   \n",
       "4                No     Fiber optic                   No  ...   \n",
       "\n",
       "           TechSupport          StreamingTV      StreamingMovies  \\\n",
       "0                  Yes                   No                   No   \n",
       "1  No internet service  No internet service  No internet service   \n",
       "2                  Yes                  Yes                  Yes   \n",
       "3                   No                  Yes                  Yes   \n",
       "4                   No                   No                   No   \n",
       "\n",
       "         Contract PaperlessBilling              PaymentMethod MonthlyCharges  \\\n",
       "0        Two year               No                        NaN          45.05   \n",
       "1        One year               No               Mailed check          19.65   \n",
       "2        Two year              Yes    Credit card (automatic)         110.80   \n",
       "3  Month-to-month              Yes  Bank transfer (automatic)         101.90   \n",
       "4  Month-to-month              Yes           Electronic check          70.75   \n",
       "\n",
       "  TotalCharges  Churn  test  \n",
       "0      2560.10      0     0  \n",
       "1       332.65      0     0  \n",
       "2      6640.70      0     0  \n",
       "3      3545.35      1     0  \n",
       "4      1974.80      1     0  \n",
       "\n",
       "[5 rows x 22 columns]"
      ]
     },
     "execution_count": 150,
     "metadata": {},
     "output_type": "execute_result"
    }
   ],
   "source": [
    "df.head()"
   ]
  },
  {
   "cell_type": "code",
   "execution_count": 151,
   "metadata": {},
   "outputs": [],
   "source": [
    "# substituir no e yes por 0 e 1"
   ]
  },
  {
   "cell_type": "code",
   "execution_count": 152,
   "metadata": {},
   "outputs": [],
   "source": [
    "df['PhoneService'] = df['PhoneService'].str.replace('No','0')\n",
    "df['PhoneService'] = df['PhoneService'].str.replace('Yes','1')"
   ]
  },
  {
   "cell_type": "code",
   "execution_count": 153,
   "metadata": {},
   "outputs": [
    {
     "data": {
      "text/plain": [
       "1    6361\n",
       "0     682\n",
       "Name: PhoneService, dtype: int64"
      ]
     },
     "execution_count": 153,
     "metadata": {},
     "output_type": "execute_result"
    }
   ],
   "source": [
    "df.PhoneService.value_counts()"
   ]
  },
  {
   "cell_type": "code",
   "execution_count": 154,
   "metadata": {},
   "outputs": [
    {
     "data": {
      "text/plain": [
       "No                  3390\n",
       "Yes                 2971\n",
       "No phone service     682\n",
       "Name: MultipleLines, dtype: int64"
      ]
     },
     "execution_count": 154,
     "metadata": {},
     "output_type": "execute_result"
    }
   ],
   "source": [
    "df.MultipleLines.value_counts()"
   ]
  },
  {
   "cell_type": "code",
   "execution_count": 155,
   "metadata": {},
   "outputs": [],
   "source": [
    "df.loc[df['MultipleLines'] != 'Yes','MultipleLines'] = 0"
   ]
  },
  {
   "cell_type": "code",
   "execution_count": 156,
   "metadata": {},
   "outputs": [],
   "source": [
    "df.loc[df['MultipleLines'] == 'Yes','MultipleLines'] = 1"
   ]
  },
  {
   "cell_type": "code",
   "execution_count": 157,
   "metadata": {},
   "outputs": [
    {
     "data": {
      "text/plain": [
       "0    4072\n",
       "1    2971\n",
       "Name: MultipleLines, dtype: int64"
      ]
     },
     "execution_count": 157,
     "metadata": {},
     "output_type": "execute_result"
    }
   ],
   "source": [
    "df.MultipleLines.value_counts()"
   ]
  },
  {
   "cell_type": "code",
   "execution_count": 158,
   "metadata": {
    "scrolled": true
   },
   "outputs": [
    {
     "data": {
      "text/plain": [
       "Fiber optic    3096\n",
       "DSL            2421\n",
       "No             1526\n",
       "Name: InternetService, dtype: int64"
      ]
     },
     "execution_count": 158,
     "metadata": {},
     "output_type": "execute_result"
    }
   ],
   "source": [
    "df.InternetService.value_counts()"
   ]
  },
  {
   "cell_type": "code",
   "execution_count": 159,
   "metadata": {},
   "outputs": [],
   "source": [
    "df['InternetService2'] = df['InternetService']"
   ]
  },
  {
   "cell_type": "code",
   "execution_count": 160,
   "metadata": {},
   "outputs": [],
   "source": [
    "df.loc[df['InternetService2'] != 'No','InternetService2'] = 1"
   ]
  },
  {
   "cell_type": "code",
   "execution_count": 161,
   "metadata": {},
   "outputs": [],
   "source": [
    "df.loc[df['InternetService2'] == 'No','InternetService2'] = 0"
   ]
  },
  {
   "cell_type": "code",
   "execution_count": 162,
   "metadata": {},
   "outputs": [
    {
     "data": {
      "text/plain": [
       "1    5517\n",
       "0    1526\n",
       "Name: InternetService2, dtype: int64"
      ]
     },
     "execution_count": 162,
     "metadata": {},
     "output_type": "execute_result"
    }
   ],
   "source": [
    "df.InternetService2.value_counts()"
   ]
  },
  {
   "cell_type": "code",
   "execution_count": 163,
   "metadata": {},
   "outputs": [
    {
     "data": {
      "text/plain": [
       "No                     3498\n",
       "Yes                    2019\n",
       "No internet service    1526\n",
       "Name: OnlineSecurity, dtype: int64"
      ]
     },
     "execution_count": 163,
     "metadata": {},
     "output_type": "execute_result"
    }
   ],
   "source": [
    "df.OnlineSecurity.value_counts()"
   ]
  },
  {
   "cell_type": "code",
   "execution_count": 164,
   "metadata": {},
   "outputs": [],
   "source": [
    "df['OnlineSecurity2'] = df['OnlineSecurity']"
   ]
  },
  {
   "cell_type": "code",
   "execution_count": 165,
   "metadata": {},
   "outputs": [],
   "source": [
    "df.loc[df['OnlineSecurity2'] != 'Yes','OnlineSecurity2'] = 0"
   ]
  },
  {
   "cell_type": "code",
   "execution_count": 166,
   "metadata": {},
   "outputs": [],
   "source": [
    "df.loc[df['OnlineSecurity2'] == 'Yes','OnlineSecurity2'] = 1"
   ]
  },
  {
   "cell_type": "code",
   "execution_count": 168,
   "metadata": {},
   "outputs": [
    {
     "data": {
      "text/plain": [
       "0    5024\n",
       "1    2019\n",
       "Name: OnlineSecurity2, dtype: int64"
      ]
     },
     "execution_count": 168,
     "metadata": {},
     "output_type": "execute_result"
    }
   ],
   "source": [
    "df.OnlineSecurity2.value_counts()"
   ]
  },
  {
   "cell_type": "code",
   "execution_count": 170,
   "metadata": {},
   "outputs": [
    {
     "data": {
      "text/plain": [
       "No                     3088\n",
       "Yes                    2429\n",
       "No internet service    1526\n",
       "Name: OnlineBackup, dtype: int64"
      ]
     },
     "execution_count": 170,
     "metadata": {},
     "output_type": "execute_result"
    }
   ],
   "source": [
    "df.OnlineBackup.value_counts()"
   ]
  },
  {
   "cell_type": "code",
   "execution_count": 171,
   "metadata": {},
   "outputs": [],
   "source": [
    "df['OnlineBackup2'] = df['OnlineBackup']"
   ]
  },
  {
   "cell_type": "code",
   "execution_count": 172,
   "metadata": {},
   "outputs": [],
   "source": [
    "df.loc[df['OnlineBackup2'] != 'Yes','OnlineBackup2'] = 0"
   ]
  },
  {
   "cell_type": "code",
   "execution_count": 173,
   "metadata": {},
   "outputs": [],
   "source": [
    "df.loc[df['OnlineBackup2'] == 'Yes','OnlineBackup2'] = 1"
   ]
  },
  {
   "cell_type": "code",
   "execution_count": 174,
   "metadata": {},
   "outputs": [
    {
     "data": {
      "text/plain": [
       "0    4614\n",
       "1    2429\n",
       "Name: OnlineBackup2, dtype: int64"
      ]
     },
     "execution_count": 174,
     "metadata": {},
     "output_type": "execute_result"
    }
   ],
   "source": [
    "df.OnlineBackup2.value_counts()"
   ]
  },
  {
   "cell_type": "code",
   "execution_count": 175,
   "metadata": {},
   "outputs": [
    {
     "data": {
      "text/plain": [
       "No                     3095\n",
       "Yes                    2422\n",
       "No internet service    1526\n",
       "Name: DeviceProtection, dtype: int64"
      ]
     },
     "execution_count": 175,
     "metadata": {},
     "output_type": "execute_result"
    }
   ],
   "source": [
    "df.DeviceProtection.value_counts()"
   ]
  },
  {
   "cell_type": "code",
   "execution_count": 176,
   "metadata": {},
   "outputs": [],
   "source": [
    "df['DeviceProtection2'] = df['DeviceProtection']"
   ]
  },
  {
   "cell_type": "code",
   "execution_count": 177,
   "metadata": {},
   "outputs": [],
   "source": [
    "df.loc[df['DeviceProtection2'] != 'Yes','DeviceProtection2'] = 0"
   ]
  },
  {
   "cell_type": "code",
   "execution_count": 178,
   "metadata": {},
   "outputs": [],
   "source": [
    "df.loc[df['DeviceProtection2'] == 'Yes','DeviceProtection2'] = 1"
   ]
  },
  {
   "cell_type": "code",
   "execution_count": 179,
   "metadata": {},
   "outputs": [
    {
     "data": {
      "text/plain": [
       "0    4621\n",
       "1    2422\n",
       "Name: DeviceProtection2, dtype: int64"
      ]
     },
     "execution_count": 179,
     "metadata": {},
     "output_type": "execute_result"
    }
   ],
   "source": [
    "df.DeviceProtection2.value_counts()"
   ]
  },
  {
   "cell_type": "code",
   "execution_count": 181,
   "metadata": {},
   "outputs": [],
   "source": [
    "df['TechSupport2'] = df['TechSupport']"
   ]
  },
  {
   "cell_type": "code",
   "execution_count": 182,
   "metadata": {},
   "outputs": [
    {
     "data": {
      "text/plain": [
       "No                     3473\n",
       "Yes                    2044\n",
       "No internet service    1526\n",
       "Name: TechSupport2, dtype: int64"
      ]
     },
     "execution_count": 182,
     "metadata": {},
     "output_type": "execute_result"
    }
   ],
   "source": [
    "df.TechSupport2.value_counts()"
   ]
  },
  {
   "cell_type": "code",
   "execution_count": 183,
   "metadata": {},
   "outputs": [],
   "source": [
    "df.loc[df['TechSupport2'] != 'Yes','TechSupport2'] = 0"
   ]
  },
  {
   "cell_type": "code",
   "execution_count": 184,
   "metadata": {},
   "outputs": [],
   "source": [
    "df.loc[df['TechSupport2'] == 'Yes','TechSupport2'] = 1"
   ]
  },
  {
   "cell_type": "code",
   "execution_count": 185,
   "metadata": {},
   "outputs": [
    {
     "data": {
      "text/plain": [
       "0    4999\n",
       "1    2044\n",
       "Name: TechSupport2, dtype: int64"
      ]
     },
     "execution_count": 185,
     "metadata": {},
     "output_type": "execute_result"
    }
   ],
   "source": [
    "df.TechSupport2.value_counts()"
   ]
  },
  {
   "cell_type": "code",
   "execution_count": 186,
   "metadata": {},
   "outputs": [
    {
     "data": {
      "text/plain": [
       "No                     2810\n",
       "Yes                    2707\n",
       "No internet service    1526\n",
       "Name: StreamingTV, dtype: int64"
      ]
     },
     "execution_count": 186,
     "metadata": {},
     "output_type": "execute_result"
    }
   ],
   "source": [
    "df.StreamingTV.value_counts()"
   ]
  },
  {
   "cell_type": "code",
   "execution_count": 187,
   "metadata": {},
   "outputs": [],
   "source": [
    "df['StreamingTV2'] = df['StreamingTV']"
   ]
  },
  {
   "cell_type": "code",
   "execution_count": 188,
   "metadata": {},
   "outputs": [],
   "source": [
    "df.loc[df['StreamingTV2'] != 'Yes','StreamingTV2'] = 0"
   ]
  },
  {
   "cell_type": "code",
   "execution_count": 189,
   "metadata": {},
   "outputs": [],
   "source": [
    "df.loc[df['StreamingTV2'] == 'Yes','StreamingTV2'] = 1"
   ]
  },
  {
   "cell_type": "code",
   "execution_count": 190,
   "metadata": {},
   "outputs": [
    {
     "data": {
      "text/plain": [
       "0    4336\n",
       "1    2707\n",
       "Name: StreamingTV2, dtype: int64"
      ]
     },
     "execution_count": 190,
     "metadata": {},
     "output_type": "execute_result"
    }
   ],
   "source": [
    "df.StreamingTV2.value_counts()"
   ]
  },
  {
   "cell_type": "code",
   "execution_count": 194,
   "metadata": {},
   "outputs": [
    {
     "data": {
      "text/plain": [
       "No                     2785\n",
       "Yes                    2732\n",
       "No internet service    1526\n",
       "Name: StreamingMovies, dtype: int64"
      ]
     },
     "execution_count": 194,
     "metadata": {},
     "output_type": "execute_result"
    }
   ],
   "source": [
    "df.StreamingMovies.value_counts()"
   ]
  },
  {
   "cell_type": "code",
   "execution_count": 195,
   "metadata": {},
   "outputs": [],
   "source": [
    "df['StreamingMovies2'] = df['StreamingMovies']"
   ]
  },
  {
   "cell_type": "code",
   "execution_count": 196,
   "metadata": {},
   "outputs": [],
   "source": [
    "df.loc[df['StreamingMovies2'] != 'Yes','StreamingMovies2'] = 0"
   ]
  },
  {
   "cell_type": "code",
   "execution_count": 197,
   "metadata": {},
   "outputs": [],
   "source": [
    "df.loc[df['StreamingMovies2'] == 'Yes','StreamingMovies2'] = 1"
   ]
  },
  {
   "cell_type": "code",
   "execution_count": 198,
   "metadata": {},
   "outputs": [
    {
     "data": {
      "text/plain": [
       "0    4311\n",
       "1    2732\n",
       "Name: StreamingMovies2, dtype: int64"
      ]
     },
     "execution_count": 198,
     "metadata": {},
     "output_type": "execute_result"
    }
   ],
   "source": [
    "df.StreamingMovies2.value_counts()"
   ]
  },
  {
   "cell_type": "code",
   "execution_count": 201,
   "metadata": {},
   "outputs": [],
   "source": [
    "#df['Produtos'] = df['PhoneService'] +  df['MultipleLines']  + df['InternetService2'] + df['OnlineSecurity2']  + df['OnlineBackup2'] + df['DeviceProtection2']+ df['TechSupport2'] + df['StreamingTV2'] + df['StreamingMovies2'] "
   ]
  },
  {
   "cell_type": "code",
   "execution_count": 205,
   "metadata": {
    "scrolled": false
   },
   "outputs": [
    {
     "data": {
      "text/plain": [
       "Index(['gender', 'Partner', 'Dependents', 'PhoneService', 'MultipleLines',\n",
       "       'InternetService', 'OnlineSecurity', 'OnlineBackup', 'DeviceProtection',\n",
       "       'TechSupport', 'StreamingTV', 'StreamingMovies', 'Contract',\n",
       "       'PaperlessBilling', 'PaymentMethod', 'InternetService2',\n",
       "       'OnlineSecurity2', 'OnlineBackup2', 'DeviceProtection2', 'TechSupport2',\n",
       "       'StreamingTV2', 'StreamingMovies2'],\n",
       "      dtype='object')"
      ]
     },
     "execution_count": 205,
     "metadata": {},
     "output_type": "execute_result"
    }
   ],
   "source": [
    "df.dtypes[df.dtypes=='object'].index"
   ]
  },
  {
   "cell_type": "code",
   "execution_count": 212,
   "metadata": {},
   "outputs": [
    {
     "data": {
      "text/plain": [
       "Index(['id', 'gender', 'SeniorCitizen', 'Partner', 'Dependents', 'tenure',\n",
       "       'PhoneService', 'MultipleLines', 'InternetService', 'OnlineSecurity',\n",
       "       'OnlineBackup', 'DeviceProtection', 'TechSupport', 'StreamingTV',\n",
       "       'StreamingMovies', 'Contract', 'PaperlessBilling', 'PaymentMethod',\n",
       "       'MonthlyCharges', 'TotalCharges', 'Churn', 'test', 'InternetService2',\n",
       "       'OnlineSecurity2', 'OnlineBackup2', 'DeviceProtection2', 'TechSupport2',\n",
       "       'StreamingTV2', 'StreamingMovies2', 'Produtos'],\n",
       "      dtype='object')"
      ]
     },
     "execution_count": 212,
     "metadata": {},
     "output_type": "execute_result"
    }
   ],
   "source": [
    "df.dtypes.index"
   ]
  },
  {
   "cell_type": "code",
   "execution_count": 206,
   "metadata": {},
   "outputs": [],
   "source": [
    "features = [ 'PhoneService', 'MultipleLines','InternetService2','OnlineSecurity2', 'OnlineBackup2',\n",
    "            'DeviceProtection2', 'TechSupport2','StreamingTV2', 'StreamingMovies2']"
   ]
  },
  {
   "cell_type": "code",
   "execution_count": 207,
   "metadata": {},
   "outputs": [],
   "source": [
    "for i in features:\n",
    "    df[i]=df[i].astype(float)"
   ]
  },
  {
   "cell_type": "code",
   "execution_count": 209,
   "metadata": {},
   "outputs": [],
   "source": [
    "#Criando a feature nova de quantidade de produtos\n",
    "df['Produtos'] = (df['PhoneService'] +  df['MultipleLines']  + df['InternetService2'] +\n",
    "df['OnlineSecurity2']  + df['OnlineBackup2'] + df['DeviceProtection2']+ \n",
    "df['TechSupport2'] + df['StreamingTV2'] + df['StreamingMovies2'] )"
   ]
  },
  {
   "cell_type": "code",
   "execution_count": 210,
   "metadata": {},
   "outputs": [
    {
     "data": {
      "text/plain": [
       "id                     int64\n",
       "gender                object\n",
       "SeniorCitizen          int64\n",
       "Partner               object\n",
       "Dependents            object\n",
       "tenure               float64\n",
       "PhoneService         float64\n",
       "MultipleLines        float64\n",
       "InternetService       object\n",
       "OnlineSecurity        object\n",
       "OnlineBackup          object\n",
       "DeviceProtection      object\n",
       "TechSupport           object\n",
       "StreamingTV           object\n",
       "StreamingMovies       object\n",
       "Contract              object\n",
       "PaperlessBilling      object\n",
       "PaymentMethod         object\n",
       "MonthlyCharges       float64\n",
       "TotalCharges         float64\n",
       "Churn                  int64\n",
       "test                   int64\n",
       "InternetService2     float64\n",
       "OnlineSecurity2      float64\n",
       "OnlineBackup2        float64\n",
       "DeviceProtection2    float64\n",
       "TechSupport2         float64\n",
       "StreamingTV2         float64\n",
       "StreamingMovies2     float64\n",
       "Produtos             float64\n",
       "dtype: object"
      ]
     },
     "execution_count": 210,
     "metadata": {},
     "output_type": "execute_result"
    }
   ],
   "source": [
    "df.dtypes"
   ]
  },
  {
   "cell_type": "code",
   "execution_count": 211,
   "metadata": {},
   "outputs": [
    {
     "data": {
      "text/html": [
       "<div>\n",
       "<style scoped>\n",
       "    .dataframe tbody tr th:only-of-type {\n",
       "        vertical-align: middle;\n",
       "    }\n",
       "\n",
       "    .dataframe tbody tr th {\n",
       "        vertical-align: top;\n",
       "    }\n",
       "\n",
       "    .dataframe thead th {\n",
       "        text-align: right;\n",
       "    }\n",
       "</style>\n",
       "<table border=\"1\" class=\"dataframe\">\n",
       "  <thead>\n",
       "    <tr style=\"text-align: right;\">\n",
       "      <th></th>\n",
       "      <th>id</th>\n",
       "      <th>gender</th>\n",
       "      <th>SeniorCitizen</th>\n",
       "      <th>Partner</th>\n",
       "      <th>Dependents</th>\n",
       "      <th>tenure</th>\n",
       "      <th>PhoneService</th>\n",
       "      <th>MultipleLines</th>\n",
       "      <th>InternetService</th>\n",
       "      <th>OnlineSecurity</th>\n",
       "      <th>...</th>\n",
       "      <th>Churn</th>\n",
       "      <th>test</th>\n",
       "      <th>InternetService2</th>\n",
       "      <th>OnlineSecurity2</th>\n",
       "      <th>OnlineBackup2</th>\n",
       "      <th>DeviceProtection2</th>\n",
       "      <th>TechSupport2</th>\n",
       "      <th>StreamingTV2</th>\n",
       "      <th>StreamingMovies2</th>\n",
       "      <th>Produtos</th>\n",
       "    </tr>\n",
       "  </thead>\n",
       "  <tbody>\n",
       "    <tr>\n",
       "      <th>0</th>\n",
       "      <td>4030</td>\n",
       "      <td>Female</td>\n",
       "      <td>0</td>\n",
       "      <td>No</td>\n",
       "      <td>No</td>\n",
       "      <td>56.0</td>\n",
       "      <td>0.0</td>\n",
       "      <td>0.0</td>\n",
       "      <td>DSL</td>\n",
       "      <td>Yes</td>\n",
       "      <td>...</td>\n",
       "      <td>0</td>\n",
       "      <td>0</td>\n",
       "      <td>1.0</td>\n",
       "      <td>1.0</td>\n",
       "      <td>1.0</td>\n",
       "      <td>1.0</td>\n",
       "      <td>1.0</td>\n",
       "      <td>0.0</td>\n",
       "      <td>0.0</td>\n",
       "      <td>5.0</td>\n",
       "    </tr>\n",
       "    <tr>\n",
       "      <th>1</th>\n",
       "      <td>6731</td>\n",
       "      <td>Male</td>\n",
       "      <td>0</td>\n",
       "      <td>Yes</td>\n",
       "      <td>Yes</td>\n",
       "      <td>NaN</td>\n",
       "      <td>1.0</td>\n",
       "      <td>0.0</td>\n",
       "      <td>No</td>\n",
       "      <td>No internet service</td>\n",
       "      <td>...</td>\n",
       "      <td>0</td>\n",
       "      <td>0</td>\n",
       "      <td>0.0</td>\n",
       "      <td>0.0</td>\n",
       "      <td>0.0</td>\n",
       "      <td>0.0</td>\n",
       "      <td>0.0</td>\n",
       "      <td>0.0</td>\n",
       "      <td>0.0</td>\n",
       "      <td>1.0</td>\n",
       "    </tr>\n",
       "    <tr>\n",
       "      <th>2</th>\n",
       "      <td>6479</td>\n",
       "      <td>Female</td>\n",
       "      <td>0</td>\n",
       "      <td>Yes</td>\n",
       "      <td>No</td>\n",
       "      <td>60.0</td>\n",
       "      <td>1.0</td>\n",
       "      <td>1.0</td>\n",
       "      <td>Fiber optic</td>\n",
       "      <td>No</td>\n",
       "      <td>...</td>\n",
       "      <td>0</td>\n",
       "      <td>0</td>\n",
       "      <td>1.0</td>\n",
       "      <td>0.0</td>\n",
       "      <td>1.0</td>\n",
       "      <td>1.0</td>\n",
       "      <td>1.0</td>\n",
       "      <td>1.0</td>\n",
       "      <td>1.0</td>\n",
       "      <td>8.0</td>\n",
       "    </tr>\n",
       "    <tr>\n",
       "      <th>3</th>\n",
       "      <td>6861</td>\n",
       "      <td>Female</td>\n",
       "      <td>0</td>\n",
       "      <td>No</td>\n",
       "      <td>No</td>\n",
       "      <td>37.0</td>\n",
       "      <td>1.0</td>\n",
       "      <td>1.0</td>\n",
       "      <td>Fiber optic</td>\n",
       "      <td>No</td>\n",
       "      <td>...</td>\n",
       "      <td>1</td>\n",
       "      <td>0</td>\n",
       "      <td>1.0</td>\n",
       "      <td>0.0</td>\n",
       "      <td>1.0</td>\n",
       "      <td>1.0</td>\n",
       "      <td>0.0</td>\n",
       "      <td>1.0</td>\n",
       "      <td>1.0</td>\n",
       "      <td>7.0</td>\n",
       "    </tr>\n",
       "    <tr>\n",
       "      <th>4</th>\n",
       "      <td>3266</td>\n",
       "      <td>Male</td>\n",
       "      <td>0</td>\n",
       "      <td>Yes</td>\n",
       "      <td>Yes</td>\n",
       "      <td>29.0</td>\n",
       "      <td>1.0</td>\n",
       "      <td>0.0</td>\n",
       "      <td>Fiber optic</td>\n",
       "      <td>No</td>\n",
       "      <td>...</td>\n",
       "      <td>1</td>\n",
       "      <td>0</td>\n",
       "      <td>1.0</td>\n",
       "      <td>0.0</td>\n",
       "      <td>0.0</td>\n",
       "      <td>0.0</td>\n",
       "      <td>0.0</td>\n",
       "      <td>0.0</td>\n",
       "      <td>0.0</td>\n",
       "      <td>2.0</td>\n",
       "    </tr>\n",
       "  </tbody>\n",
       "</table>\n",
       "<p>5 rows × 30 columns</p>\n",
       "</div>"
      ],
      "text/plain": [
       "     id  gender  SeniorCitizen Partner Dependents  tenure  PhoneService  \\\n",
       "0  4030  Female              0      No         No    56.0           0.0   \n",
       "1  6731    Male              0     Yes        Yes     NaN           1.0   \n",
       "2  6479  Female              0     Yes         No    60.0           1.0   \n",
       "3  6861  Female              0      No         No    37.0           1.0   \n",
       "4  3266    Male              0     Yes        Yes    29.0           1.0   \n",
       "\n",
       "   MultipleLines InternetService       OnlineSecurity  ... Churn test  \\\n",
       "0            0.0             DSL                  Yes  ...     0    0   \n",
       "1            0.0              No  No internet service  ...     0    0   \n",
       "2            1.0     Fiber optic                   No  ...     0    0   \n",
       "3            1.0     Fiber optic                   No  ...     1    0   \n",
       "4            0.0     Fiber optic                   No  ...     1    0   \n",
       "\n",
       "  InternetService2 OnlineSecurity2 OnlineBackup2 DeviceProtection2  \\\n",
       "0              1.0             1.0           1.0               1.0   \n",
       "1              0.0             0.0           0.0               0.0   \n",
       "2              1.0             0.0           1.0               1.0   \n",
       "3              1.0             0.0           1.0               1.0   \n",
       "4              1.0             0.0           0.0               0.0   \n",
       "\n",
       "  TechSupport2 StreamingTV2  StreamingMovies2  Produtos  \n",
       "0          1.0          0.0               0.0       5.0  \n",
       "1          0.0          0.0               0.0       1.0  \n",
       "2          1.0          1.0               1.0       8.0  \n",
       "3          0.0          1.0               1.0       7.0  \n",
       "4          0.0          0.0               0.0       2.0  \n",
       "\n",
       "[5 rows x 30 columns]"
      ]
     },
     "execution_count": 211,
     "metadata": {},
     "output_type": "execute_result"
    }
   ],
   "source": [
    "df.head()"
   ]
  },
  {
   "cell_type": "markdown",
   "metadata": {},
   "source": [
    "### plotar boxplot em variaveis continuas e se tiver mto outlier da pra trocar por mediana"
   ]
  },
  {
   "cell_type": "code",
   "execution_count": 213,
   "metadata": {
    "scrolled": true
   },
   "outputs": [
    {
     "data": {
      "text/plain": [
       "id                     int64\n",
       "gender                object\n",
       "SeniorCitizen          int64\n",
       "Partner               object\n",
       "Dependents            object\n",
       "tenure               float64\n",
       "PhoneService         float64\n",
       "MultipleLines        float64\n",
       "InternetService       object\n",
       "OnlineSecurity        object\n",
       "OnlineBackup          object\n",
       "DeviceProtection      object\n",
       "TechSupport           object\n",
       "StreamingTV           object\n",
       "StreamingMovies       object\n",
       "Contract              object\n",
       "PaperlessBilling      object\n",
       "PaymentMethod         object\n",
       "MonthlyCharges       float64\n",
       "TotalCharges         float64\n",
       "Churn                  int64\n",
       "test                   int64\n",
       "InternetService2     float64\n",
       "OnlineSecurity2      float64\n",
       "OnlineBackup2        float64\n",
       "DeviceProtection2    float64\n",
       "TechSupport2         float64\n",
       "StreamingTV2         float64\n",
       "StreamingMovies2     float64\n",
       "Produtos             float64\n",
       "dtype: object"
      ]
     },
     "execution_count": 213,
     "metadata": {},
     "output_type": "execute_result"
    }
   ],
   "source": [
    "df.dtypes"
   ]
  },
  {
   "cell_type": "code",
   "execution_count": 214,
   "metadata": {},
   "outputs": [],
   "source": [
    "quali = ['gender','SeniorCitizen','Partner','Dependents','PhoneService','MultipleLines','InternetService','OnlineSecurity','OnlineBackup','DeviceProtection','TechSupport','StreamingTV','StreamingMovies','Contract','PaperlessBilling','PaymentMethod']\n",
    "\n",
    "quanti = ['tenure', 'MonthlyCharges', 'TotalCharges']\n"
   ]
  },
  {
   "cell_type": "code",
   "execution_count": 215,
   "metadata": {},
   "outputs": [
    {
     "data": {
      "text/plain": [
       "id                     0\n",
       "gender                 0\n",
       "SeniorCitizen          0\n",
       "Partner                0\n",
       "Dependents           259\n",
       "tenure               579\n",
       "PhoneService           0\n",
       "MultipleLines          0\n",
       "InternetService        0\n",
       "OnlineSecurity         0\n",
       "OnlineBackup           0\n",
       "DeviceProtection       0\n",
       "TechSupport            0\n",
       "StreamingTV            0\n",
       "StreamingMovies        0\n",
       "Contract               0\n",
       "PaperlessBilling       0\n",
       "PaymentMethod        129\n",
       "MonthlyCharges         0\n",
       "TotalCharges           0\n",
       "Churn                  0\n",
       "test                   0\n",
       "InternetService2       0\n",
       "OnlineSecurity2        0\n",
       "OnlineBackup2          0\n",
       "DeviceProtection2      0\n",
       "TechSupport2           0\n",
       "StreamingTV2           0\n",
       "StreamingMovies2       0\n",
       "Produtos               0\n",
       "dtype: int64"
      ]
     },
     "execution_count": 215,
     "metadata": {},
     "output_type": "execute_result"
    }
   ],
   "source": [
    "df.isnull().sum()"
   ]
  },
  {
   "cell_type": "code",
   "execution_count": 216,
   "metadata": {},
   "outputs": [
    {
     "data": {
      "text/plain": [
       "id                   7043\n",
       "gender                  2\n",
       "SeniorCitizen           2\n",
       "Partner                 2\n",
       "Dependents              2\n",
       "tenure                 73\n",
       "PhoneService            2\n",
       "MultipleLines           2\n",
       "InternetService         3\n",
       "OnlineSecurity          3\n",
       "OnlineBackup            3\n",
       "DeviceProtection        3\n",
       "TechSupport             3\n",
       "StreamingTV             3\n",
       "StreamingMovies         3\n",
       "Contract                3\n",
       "PaperlessBilling        2\n",
       "PaymentMethod           4\n",
       "MonthlyCharges       1585\n",
       "TotalCharges         6531\n",
       "Churn                   3\n",
       "test                    2\n",
       "InternetService2        2\n",
       "OnlineSecurity2         2\n",
       "OnlineBackup2           2\n",
       "DeviceProtection2       2\n",
       "TechSupport2            2\n",
       "StreamingTV2            2\n",
       "StreamingMovies2        2\n",
       "Produtos                9\n",
       "dtype: int64"
      ]
     },
     "execution_count": 216,
     "metadata": {},
     "output_type": "execute_result"
    }
   ],
   "source": [
    "df.nunique()"
   ]
  },
  {
   "cell_type": "markdown",
   "metadata": {},
   "source": [
    "### Resolvendo os valores nulos"
   ]
  },
  {
   "cell_type": "code",
   "execution_count": 217,
   "metadata": {},
   "outputs": [],
   "source": [
    "#resolvendo os nulos\n",
    "#trocar por na\n",
    "#dependetes era sim e não\n",
    "df['Dependents'] = df['Dependents'].fillna('NA') "
   ]
  },
  {
   "cell_type": "code",
   "execution_count": 218,
   "metadata": {},
   "outputs": [
    {
     "data": {
      "text/plain": [
       "No     4746\n",
       "Yes    2038\n",
       "NA      259\n",
       "Name: Dependents, dtype: int64"
      ]
     },
     "execution_count": 218,
     "metadata": {},
     "output_type": "execute_result"
    }
   ],
   "source": [
    "df['Dependents'].value_counts()"
   ]
  },
  {
   "cell_type": "markdown",
   "metadata": {},
   "source": [
    "### verificando se a dist é normal para tratar os nulos da var TENURE"
   ]
  },
  {
   "cell_type": "code",
   "execution_count": 219,
   "metadata": {},
   "outputs": [
    {
     "data": {
      "image/png": "[encoded data removed]",
      "text/plain": [
       "<Figure size 432x288 with 1 Axes>"
      ]
     },
     "metadata": {
      "needs_background": "light"
     },
     "output_type": "display_data"
    }
   ],
   "source": [
    "#distribuição de tenure não é dist normal\n",
    "sns.distplot(df.tenure[df.tenure.notnull()]);"
   ]
  },
  {
   "cell_type": "code",
   "execution_count": 220,
   "metadata": {
    "scrolled": true
   },
   "outputs": [
    {
     "data": {
      "image/png": "[encoded data removed]",
      "text/plain": [
       "<Figure size 432x288 with 1 Axes>"
      ]
     },
     "metadata": {},
     "output_type": "display_data"
    }
   ],
   "source": [
    "plt.style.use('ggplot')\n",
    "df.hist('tenure')\n",
    "plt.show()\n",
    "\n",
    "#não tem dist normal"
   ]
  },
  {
   "cell_type": "markdown",
   "metadata": {},
   "source": [
    "#acima vemos que não tem dist normal"
   ]
  },
  {
   "cell_type": "code",
   "execution_count": 221,
   "metadata": {},
   "outputs": [
    {
     "data": {
      "image/png": "[encoded data removed]",
      "text/plain": [
       "<Figure size 288x216 with 1 Axes>"
      ]
     },
     "metadata": {},
     "output_type": "display_data"
    }
   ],
   "source": [
    "fig, ax = plt.subplots(figsize=(4, 3))\n",
    "\n",
    "sns.boxplot(data=df.tenure, ax=ax);\n",
    "\n",
    "#aqui vemos que nao tem outlier\n",
    "#se tiver mto outlier, melhor usar mediana e nao média\n",
    "#se a média nao é boa medida, o desvio padrão tmbm nao vai ser pq ele é baseado na média\n",
    "#box plot --> amplitude interquartil\n",
    "#o corte no meio é a mediana\n",
    "# os outliers são os que passam os limites inf e sup\n",
    "\n",
    "#nesse cao média e mediana estao bem proximas, tanto faz por qual substituir\n",
    "\n"
   ]
  },
  {
   "cell_type": "code",
   "execution_count": 222,
   "metadata": {},
   "outputs": [],
   "source": [
    "#tenure são numeros. substitui nulos pela média\n",
    "#ver a distribuição disso se é normal. se média ta centralizada. dependendo da quantidade de nulos, vale a pena substituir por media ou mediana\n",
    "# se for pouco nulo a proba de ser a média é alta\n",
    "df['tenure'] = df['tenure'].fillna(32) "
   ]
  },
  {
   "cell_type": "code",
   "execution_count": 223,
   "metadata": {},
   "outputs": [],
   "source": [
    "#payment method é string\n",
    "#trocar o faltante por electronic check pq é bem pouco. se fosse mais dava pra criar categoria faltante\n",
    "\n",
    "df['PaymentMethod'] = df['PaymentMethod'].fillna('Electronic check') "
   ]
  },
  {
   "cell_type": "code",
   "execution_count": 224,
   "metadata": {},
   "outputs": [
    {
     "data": {
      "text/plain": [
       "Electronic check             2446\n",
       "Mailed check                 1585\n",
       "Bank transfer (automatic)    1519\n",
       "Credit card (automatic)      1493\n",
       "Name: PaymentMethod, dtype: int64"
      ]
     },
     "execution_count": 224,
     "metadata": {},
     "output_type": "execute_result"
    }
   ],
   "source": [
    "df['PaymentMethod'].value_counts()"
   ]
  },
  {
   "cell_type": "code",
   "execution_count": 225,
   "metadata": {},
   "outputs": [
    {
     "data": {
      "text/plain": [
       "id                   0\n",
       "gender               0\n",
       "SeniorCitizen        0\n",
       "Partner              0\n",
       "Dependents           0\n",
       "tenure               0\n",
       "PhoneService         0\n",
       "MultipleLines        0\n",
       "InternetService      0\n",
       "OnlineSecurity       0\n",
       "OnlineBackup         0\n",
       "DeviceProtection     0\n",
       "TechSupport          0\n",
       "StreamingTV          0\n",
       "StreamingMovies      0\n",
       "Contract             0\n",
       "PaperlessBilling     0\n",
       "PaymentMethod        0\n",
       "MonthlyCharges       0\n",
       "TotalCharges         0\n",
       "Churn                0\n",
       "test                 0\n",
       "InternetService2     0\n",
       "OnlineSecurity2      0\n",
       "OnlineBackup2        0\n",
       "DeviceProtection2    0\n",
       "TechSupport2         0\n",
       "StreamingTV2         0\n",
       "StreamingMovies2     0\n",
       "Produtos             0\n",
       "dtype: int64"
      ]
     },
     "execution_count": 225,
     "metadata": {},
     "output_type": "execute_result"
    }
   ],
   "source": [
    "df.isnull().sum() #nulos resolvidos"
   ]
  },
  {
   "cell_type": "code",
   "execution_count": 226,
   "metadata": {},
   "outputs": [
    {
     "data": {
      "text/html": [
       "<div>\n",
       "<style scoped>\n",
       "    .dataframe tbody tr th:only-of-type {\n",
       "        vertical-align: middle;\n",
       "    }\n",
       "\n",
       "    .dataframe tbody tr th {\n",
       "        vertical-align: top;\n",
       "    }\n",
       "\n",
       "    .dataframe thead th {\n",
       "        text-align: right;\n",
       "    }\n",
       "</style>\n",
       "<table border=\"1\" class=\"dataframe\">\n",
       "  <thead>\n",
       "    <tr style=\"text-align: right;\">\n",
       "      <th></th>\n",
       "      <th>id</th>\n",
       "      <th>SeniorCitizen</th>\n",
       "      <th>tenure</th>\n",
       "      <th>PhoneService</th>\n",
       "      <th>MultipleLines</th>\n",
       "      <th>MonthlyCharges</th>\n",
       "      <th>TotalCharges</th>\n",
       "      <th>Churn</th>\n",
       "      <th>test</th>\n",
       "      <th>InternetService2</th>\n",
       "      <th>OnlineSecurity2</th>\n",
       "      <th>OnlineBackup2</th>\n",
       "      <th>DeviceProtection2</th>\n",
       "      <th>TechSupport2</th>\n",
       "      <th>StreamingTV2</th>\n",
       "      <th>StreamingMovies2</th>\n",
       "      <th>Produtos</th>\n",
       "    </tr>\n",
       "  </thead>\n",
       "  <tbody>\n",
       "    <tr>\n",
       "      <th>count</th>\n",
       "      <td>7043.000000</td>\n",
       "      <td>7043.000000</td>\n",
       "      <td>7043.000000</td>\n",
       "      <td>7043.000000</td>\n",
       "      <td>7043.000000</td>\n",
       "      <td>7043.000000</td>\n",
       "      <td>7043.000000</td>\n",
       "      <td>7043.000000</td>\n",
       "      <td>7043.000000</td>\n",
       "      <td>7043.000000</td>\n",
       "      <td>7043.000000</td>\n",
       "      <td>7043.000000</td>\n",
       "      <td>7043.000000</td>\n",
       "      <td>7043.000000</td>\n",
       "      <td>7043.000000</td>\n",
       "      <td>7043.000000</td>\n",
       "      <td>7043.000000</td>\n",
       "    </tr>\n",
       "    <tr>\n",
       "      <th>mean</th>\n",
       "      <td>3522.000000</td>\n",
       "      <td>0.162147</td>\n",
       "      <td>32.328979</td>\n",
       "      <td>0.903166</td>\n",
       "      <td>0.421837</td>\n",
       "      <td>64.761692</td>\n",
       "      <td>2279.734304</td>\n",
       "      <td>2000.580151</td>\n",
       "      <td>0.200057</td>\n",
       "      <td>0.783331</td>\n",
       "      <td>0.286668</td>\n",
       "      <td>0.344881</td>\n",
       "      <td>0.343888</td>\n",
       "      <td>0.290217</td>\n",
       "      <td>0.384353</td>\n",
       "      <td>0.387903</td>\n",
       "      <td>4.146244</td>\n",
       "    </tr>\n",
       "    <tr>\n",
       "      <th>std</th>\n",
       "      <td>2033.283305</td>\n",
       "      <td>0.368612</td>\n",
       "      <td>23.507909</td>\n",
       "      <td>0.295752</td>\n",
       "      <td>0.493888</td>\n",
       "      <td>30.090047</td>\n",
       "      <td>2266.794470</td>\n",
       "      <td>4000.203711</td>\n",
       "      <td>0.400071</td>\n",
       "      <td>0.412004</td>\n",
       "      <td>0.452237</td>\n",
       "      <td>0.475363</td>\n",
       "      <td>0.475038</td>\n",
       "      <td>0.453895</td>\n",
       "      <td>0.486477</td>\n",
       "      <td>0.487307</td>\n",
       "      <td>2.312720</td>\n",
       "    </tr>\n",
       "    <tr>\n",
       "      <th>min</th>\n",
       "      <td>1.000000</td>\n",
       "      <td>0.000000</td>\n",
       "      <td>0.000000</td>\n",
       "      <td>0.000000</td>\n",
       "      <td>0.000000</td>\n",
       "      <td>18.250000</td>\n",
       "      <td>0.000000</td>\n",
       "      <td>0.000000</td>\n",
       "      <td>0.000000</td>\n",
       "      <td>0.000000</td>\n",
       "      <td>0.000000</td>\n",
       "      <td>0.000000</td>\n",
       "      <td>0.000000</td>\n",
       "      <td>0.000000</td>\n",
       "      <td>0.000000</td>\n",
       "      <td>0.000000</td>\n",
       "      <td>1.000000</td>\n",
       "    </tr>\n",
       "    <tr>\n",
       "      <th>25%</th>\n",
       "      <td>1761.500000</td>\n",
       "      <td>0.000000</td>\n",
       "      <td>10.000000</td>\n",
       "      <td>1.000000</td>\n",
       "      <td>0.000000</td>\n",
       "      <td>35.500000</td>\n",
       "      <td>398.550000</td>\n",
       "      <td>0.000000</td>\n",
       "      <td>0.000000</td>\n",
       "      <td>1.000000</td>\n",
       "      <td>0.000000</td>\n",
       "      <td>0.000000</td>\n",
       "      <td>0.000000</td>\n",
       "      <td>0.000000</td>\n",
       "      <td>0.000000</td>\n",
       "      <td>0.000000</td>\n",
       "      <td>2.000000</td>\n",
       "    </tr>\n",
       "    <tr>\n",
       "      <th>50%</th>\n",
       "      <td>3522.000000</td>\n",
       "      <td>0.000000</td>\n",
       "      <td>32.000000</td>\n",
       "      <td>1.000000</td>\n",
       "      <td>0.000000</td>\n",
       "      <td>70.350000</td>\n",
       "      <td>1394.550000</td>\n",
       "      <td>0.000000</td>\n",
       "      <td>0.000000</td>\n",
       "      <td>1.000000</td>\n",
       "      <td>0.000000</td>\n",
       "      <td>0.000000</td>\n",
       "      <td>0.000000</td>\n",
       "      <td>0.000000</td>\n",
       "      <td>0.000000</td>\n",
       "      <td>0.000000</td>\n",
       "      <td>4.000000</td>\n",
       "    </tr>\n",
       "    <tr>\n",
       "      <th>75%</th>\n",
       "      <td>5282.500000</td>\n",
       "      <td>0.000000</td>\n",
       "      <td>53.000000</td>\n",
       "      <td>1.000000</td>\n",
       "      <td>1.000000</td>\n",
       "      <td>89.850000</td>\n",
       "      <td>3786.600000</td>\n",
       "      <td>1.000000</td>\n",
       "      <td>0.000000</td>\n",
       "      <td>1.000000</td>\n",
       "      <td>1.000000</td>\n",
       "      <td>1.000000</td>\n",
       "      <td>1.000000</td>\n",
       "      <td>1.000000</td>\n",
       "      <td>1.000000</td>\n",
       "      <td>1.000000</td>\n",
       "      <td>6.000000</td>\n",
       "    </tr>\n",
       "    <tr>\n",
       "      <th>max</th>\n",
       "      <td>7043.000000</td>\n",
       "      <td>1.000000</td>\n",
       "      <td>72.000000</td>\n",
       "      <td>1.000000</td>\n",
       "      <td>1.000000</td>\n",
       "      <td>118.750000</td>\n",
       "      <td>8684.800000</td>\n",
       "      <td>9999.000000</td>\n",
       "      <td>1.000000</td>\n",
       "      <td>1.000000</td>\n",
       "      <td>1.000000</td>\n",
       "      <td>1.000000</td>\n",
       "      <td>1.000000</td>\n",
       "      <td>1.000000</td>\n",
       "      <td>1.000000</td>\n",
       "      <td>1.000000</td>\n",
       "      <td>9.000000</td>\n",
       "    </tr>\n",
       "  </tbody>\n",
       "</table>\n",
       "</div>"
      ],
      "text/plain": [
       "                id  SeniorCitizen       tenure  PhoneService  MultipleLines  \\\n",
       "count  7043.000000    7043.000000  7043.000000   7043.000000    7043.000000   \n",
       "mean   3522.000000       0.162147    32.328979      0.903166       0.421837   \n",
       "std    2033.283305       0.368612    23.507909      0.295752       0.493888   \n",
       "min       1.000000       0.000000     0.000000      0.000000       0.000000   \n",
       "25%    1761.500000       0.000000    10.000000      1.000000       0.000000   \n",
       "50%    3522.000000       0.000000    32.000000      1.000000       0.000000   \n",
       "75%    5282.500000       0.000000    53.000000      1.000000       1.000000   \n",
       "max    7043.000000       1.000000    72.000000      1.000000       1.000000   \n",
       "\n",
       "       MonthlyCharges  TotalCharges        Churn         test  \\\n",
       "count     7043.000000   7043.000000  7043.000000  7043.000000   \n",
       "mean        64.761692   2279.734304  2000.580151     0.200057   \n",
       "std         30.090047   2266.794470  4000.203711     0.400071   \n",
       "min         18.250000      0.000000     0.000000     0.000000   \n",
       "25%         35.500000    398.550000     0.000000     0.000000   \n",
       "50%         70.350000   1394.550000     0.000000     0.000000   \n",
       "75%         89.850000   3786.600000     1.000000     0.000000   \n",
       "max        118.750000   8684.800000  9999.000000     1.000000   \n",
       "\n",
       "       InternetService2  OnlineSecurity2  OnlineBackup2  DeviceProtection2  \\\n",
       "count       7043.000000      7043.000000    7043.000000        7043.000000   \n",
       "mean           0.783331         0.286668       0.344881           0.343888   \n",
       "std            0.412004         0.452237       0.475363           0.475038   \n",
       "min            0.000000         0.000000       0.000000           0.000000   \n",
       "25%            1.000000         0.000000       0.000000           0.000000   \n",
       "50%            1.000000         0.000000       0.000000           0.000000   \n",
       "75%            1.000000         1.000000       1.000000           1.000000   \n",
       "max            1.000000         1.000000       1.000000           1.000000   \n",
       "\n",
       "       TechSupport2  StreamingTV2  StreamingMovies2     Produtos  \n",
       "count   7043.000000   7043.000000       7043.000000  7043.000000  \n",
       "mean       0.290217      0.384353          0.387903     4.146244  \n",
       "std        0.453895      0.486477          0.487307     2.312720  \n",
       "min        0.000000      0.000000          0.000000     1.000000  \n",
       "25%        0.000000      0.000000          0.000000     2.000000  \n",
       "50%        0.000000      0.000000          0.000000     4.000000  \n",
       "75%        1.000000      1.000000          1.000000     6.000000  \n",
       "max        1.000000      1.000000          1.000000     9.000000  "
      ]
     },
     "execution_count": 226,
     "metadata": {},
     "output_type": "execute_result"
    }
   ],
   "source": [
    "df.describe()\n",
    "#boxplot de todas as var continuas pra substituir outliers\n",
    "#da pra criar novas var a partir das que tem"
   ]
  },
  {
   "cell_type": "code",
   "execution_count": 227,
   "metadata": {},
   "outputs": [
    {
     "data": {
      "text/plain": [
       "6531"
      ]
     },
     "execution_count": 227,
     "metadata": {},
     "output_type": "execute_result"
    }
   ],
   "source": [
    "df['TotalCharges'].nunique()"
   ]
  },
  {
   "cell_type": "code",
   "execution_count": 228,
   "metadata": {},
   "outputs": [
    {
     "data": {
      "text/html": [
       "<div>\n",
       "<style scoped>\n",
       "    .dataframe tbody tr th:only-of-type {\n",
       "        vertical-align: middle;\n",
       "    }\n",
       "\n",
       "    .dataframe tbody tr th {\n",
       "        vertical-align: top;\n",
       "    }\n",
       "\n",
       "    .dataframe thead th {\n",
       "        text-align: right;\n",
       "    }\n",
       "</style>\n",
       "<table border=\"1\" class=\"dataframe\">\n",
       "  <thead>\n",
       "    <tr style=\"text-align: right;\">\n",
       "      <th></th>\n",
       "      <th>id</th>\n",
       "      <th>gender</th>\n",
       "      <th>SeniorCitizen</th>\n",
       "      <th>Partner</th>\n",
       "      <th>Dependents</th>\n",
       "      <th>tenure</th>\n",
       "      <th>PhoneService</th>\n",
       "      <th>MultipleLines</th>\n",
       "      <th>InternetService</th>\n",
       "      <th>OnlineSecurity</th>\n",
       "      <th>...</th>\n",
       "      <th>Churn</th>\n",
       "      <th>test</th>\n",
       "      <th>InternetService2</th>\n",
       "      <th>OnlineSecurity2</th>\n",
       "      <th>OnlineBackup2</th>\n",
       "      <th>DeviceProtection2</th>\n",
       "      <th>TechSupport2</th>\n",
       "      <th>StreamingTV2</th>\n",
       "      <th>StreamingMovies2</th>\n",
       "      <th>Produtos</th>\n",
       "    </tr>\n",
       "  </thead>\n",
       "  <tbody>\n",
       "    <tr>\n",
       "      <th>0</th>\n",
       "      <td>4030</td>\n",
       "      <td>Female</td>\n",
       "      <td>0</td>\n",
       "      <td>No</td>\n",
       "      <td>No</td>\n",
       "      <td>56.0</td>\n",
       "      <td>0.0</td>\n",
       "      <td>0.0</td>\n",
       "      <td>DSL</td>\n",
       "      <td>Yes</td>\n",
       "      <td>...</td>\n",
       "      <td>0</td>\n",
       "      <td>0</td>\n",
       "      <td>1.0</td>\n",
       "      <td>1.0</td>\n",
       "      <td>1.0</td>\n",
       "      <td>1.0</td>\n",
       "      <td>1.0</td>\n",
       "      <td>0.0</td>\n",
       "      <td>0.0</td>\n",
       "      <td>5.0</td>\n",
       "    </tr>\n",
       "    <tr>\n",
       "      <th>1</th>\n",
       "      <td>6731</td>\n",
       "      <td>Male</td>\n",
       "      <td>0</td>\n",
       "      <td>Yes</td>\n",
       "      <td>Yes</td>\n",
       "      <td>32.0</td>\n",
       "      <td>1.0</td>\n",
       "      <td>0.0</td>\n",
       "      <td>No</td>\n",
       "      <td>No internet service</td>\n",
       "      <td>...</td>\n",
       "      <td>0</td>\n",
       "      <td>0</td>\n",
       "      <td>0.0</td>\n",
       "      <td>0.0</td>\n",
       "      <td>0.0</td>\n",
       "      <td>0.0</td>\n",
       "      <td>0.0</td>\n",
       "      <td>0.0</td>\n",
       "      <td>0.0</td>\n",
       "      <td>1.0</td>\n",
       "    </tr>\n",
       "    <tr>\n",
       "      <th>2</th>\n",
       "      <td>6479</td>\n",
       "      <td>Female</td>\n",
       "      <td>0</td>\n",
       "      <td>Yes</td>\n",
       "      <td>No</td>\n",
       "      <td>60.0</td>\n",
       "      <td>1.0</td>\n",
       "      <td>1.0</td>\n",
       "      <td>Fiber optic</td>\n",
       "      <td>No</td>\n",
       "      <td>...</td>\n",
       "      <td>0</td>\n",
       "      <td>0</td>\n",
       "      <td>1.0</td>\n",
       "      <td>0.0</td>\n",
       "      <td>1.0</td>\n",
       "      <td>1.0</td>\n",
       "      <td>1.0</td>\n",
       "      <td>1.0</td>\n",
       "      <td>1.0</td>\n",
       "      <td>8.0</td>\n",
       "    </tr>\n",
       "    <tr>\n",
       "      <th>3</th>\n",
       "      <td>6861</td>\n",
       "      <td>Female</td>\n",
       "      <td>0</td>\n",
       "      <td>No</td>\n",
       "      <td>No</td>\n",
       "      <td>37.0</td>\n",
       "      <td>1.0</td>\n",
       "      <td>1.0</td>\n",
       "      <td>Fiber optic</td>\n",
       "      <td>No</td>\n",
       "      <td>...</td>\n",
       "      <td>1</td>\n",
       "      <td>0</td>\n",
       "      <td>1.0</td>\n",
       "      <td>0.0</td>\n",
       "      <td>1.0</td>\n",
       "      <td>1.0</td>\n",
       "      <td>0.0</td>\n",
       "      <td>1.0</td>\n",
       "      <td>1.0</td>\n",
       "      <td>7.0</td>\n",
       "    </tr>\n",
       "    <tr>\n",
       "      <th>4</th>\n",
       "      <td>3266</td>\n",
       "      <td>Male</td>\n",
       "      <td>0</td>\n",
       "      <td>Yes</td>\n",
       "      <td>Yes</td>\n",
       "      <td>29.0</td>\n",
       "      <td>1.0</td>\n",
       "      <td>0.0</td>\n",
       "      <td>Fiber optic</td>\n",
       "      <td>No</td>\n",
       "      <td>...</td>\n",
       "      <td>1</td>\n",
       "      <td>0</td>\n",
       "      <td>1.0</td>\n",
       "      <td>0.0</td>\n",
       "      <td>0.0</td>\n",
       "      <td>0.0</td>\n",
       "      <td>0.0</td>\n",
       "      <td>0.0</td>\n",
       "      <td>0.0</td>\n",
       "      <td>2.0</td>\n",
       "    </tr>\n",
       "  </tbody>\n",
       "</table>\n",
       "<p>5 rows × 30 columns</p>\n",
       "</div>"
      ],
      "text/plain": [
       "     id  gender  SeniorCitizen Partner Dependents  tenure  PhoneService  \\\n",
       "0  4030  Female              0      No         No    56.0           0.0   \n",
       "1  6731    Male              0     Yes        Yes    32.0           1.0   \n",
       "2  6479  Female              0     Yes         No    60.0           1.0   \n",
       "3  6861  Female              0      No         No    37.0           1.0   \n",
       "4  3266    Male              0     Yes        Yes    29.0           1.0   \n",
       "\n",
       "   MultipleLines InternetService       OnlineSecurity  ... Churn test  \\\n",
       "0            0.0             DSL                  Yes  ...     0    0   \n",
       "1            0.0              No  No internet service  ...     0    0   \n",
       "2            1.0     Fiber optic                   No  ...     0    0   \n",
       "3            1.0     Fiber optic                   No  ...     1    0   \n",
       "4            0.0     Fiber optic                   No  ...     1    0   \n",
       "\n",
       "  InternetService2 OnlineSecurity2 OnlineBackup2 DeviceProtection2  \\\n",
       "0              1.0             1.0           1.0               1.0   \n",
       "1              0.0             0.0           0.0               0.0   \n",
       "2              1.0             0.0           1.0               1.0   \n",
       "3              1.0             0.0           1.0               1.0   \n",
       "4              1.0             0.0           0.0               0.0   \n",
       "\n",
       "  TechSupport2 StreamingTV2  StreamingMovies2  Produtos  \n",
       "0          1.0          0.0               0.0       5.0  \n",
       "1          0.0          0.0               0.0       1.0  \n",
       "2          1.0          1.0               1.0       8.0  \n",
       "3          0.0          1.0               1.0       7.0  \n",
       "4          0.0          0.0               0.0       2.0  \n",
       "\n",
       "[5 rows x 30 columns]"
      ]
     },
     "execution_count": 228,
     "metadata": {},
     "output_type": "execute_result"
    }
   ],
   "source": [
    "df.head()"
   ]
  },
  {
   "cell_type": "code",
   "execution_count": 229,
   "metadata": {},
   "outputs": [
    {
     "data": {
      "text/html": [
       "<div>\n",
       "<style scoped>\n",
       "    .dataframe tbody tr th:only-of-type {\n",
       "        vertical-align: middle;\n",
       "    }\n",
       "\n",
       "    .dataframe tbody tr th {\n",
       "        vertical-align: top;\n",
       "    }\n",
       "\n",
       "    .dataframe thead th {\n",
       "        text-align: right;\n",
       "    }\n",
       "</style>\n",
       "<table border=\"1\" class=\"dataframe\">\n",
       "  <thead>\n",
       "    <tr style=\"text-align: right;\">\n",
       "      <th></th>\n",
       "      <th>id</th>\n",
       "      <th>SeniorCitizen</th>\n",
       "      <th>tenure</th>\n",
       "      <th>PhoneService</th>\n",
       "      <th>MultipleLines</th>\n",
       "      <th>MonthlyCharges</th>\n",
       "      <th>TotalCharges</th>\n",
       "      <th>Churn</th>\n",
       "      <th>test</th>\n",
       "      <th>InternetService2</th>\n",
       "      <th>OnlineSecurity2</th>\n",
       "      <th>OnlineBackup2</th>\n",
       "      <th>DeviceProtection2</th>\n",
       "      <th>TechSupport2</th>\n",
       "      <th>StreamingTV2</th>\n",
       "      <th>StreamingMovies2</th>\n",
       "      <th>Produtos</th>\n",
       "    </tr>\n",
       "  </thead>\n",
       "  <tbody>\n",
       "    <tr>\n",
       "      <th>count</th>\n",
       "      <td>7043.000000</td>\n",
       "      <td>7043.000000</td>\n",
       "      <td>7043.000000</td>\n",
       "      <td>7043.000000</td>\n",
       "      <td>7043.000000</td>\n",
       "      <td>7043.000000</td>\n",
       "      <td>7043.000000</td>\n",
       "      <td>7043.000000</td>\n",
       "      <td>7043.000000</td>\n",
       "      <td>7043.000000</td>\n",
       "      <td>7043.000000</td>\n",
       "      <td>7043.000000</td>\n",
       "      <td>7043.000000</td>\n",
       "      <td>7043.000000</td>\n",
       "      <td>7043.000000</td>\n",
       "      <td>7043.000000</td>\n",
       "      <td>7043.000000</td>\n",
       "    </tr>\n",
       "    <tr>\n",
       "      <th>mean</th>\n",
       "      <td>3522.000000</td>\n",
       "      <td>0.162147</td>\n",
       "      <td>32.328979</td>\n",
       "      <td>0.903166</td>\n",
       "      <td>0.421837</td>\n",
       "      <td>64.761692</td>\n",
       "      <td>2279.734304</td>\n",
       "      <td>2000.580151</td>\n",
       "      <td>0.200057</td>\n",
       "      <td>0.783331</td>\n",
       "      <td>0.286668</td>\n",
       "      <td>0.344881</td>\n",
       "      <td>0.343888</td>\n",
       "      <td>0.290217</td>\n",
       "      <td>0.384353</td>\n",
       "      <td>0.387903</td>\n",
       "      <td>4.146244</td>\n",
       "    </tr>\n",
       "    <tr>\n",
       "      <th>std</th>\n",
       "      <td>2033.283305</td>\n",
       "      <td>0.368612</td>\n",
       "      <td>23.507909</td>\n",
       "      <td>0.295752</td>\n",
       "      <td>0.493888</td>\n",
       "      <td>30.090047</td>\n",
       "      <td>2266.794470</td>\n",
       "      <td>4000.203711</td>\n",
       "      <td>0.400071</td>\n",
       "      <td>0.412004</td>\n",
       "      <td>0.452237</td>\n",
       "      <td>0.475363</td>\n",
       "      <td>0.475038</td>\n",
       "      <td>0.453895</td>\n",
       "      <td>0.486477</td>\n",
       "      <td>0.487307</td>\n",
       "      <td>2.312720</td>\n",
       "    </tr>\n",
       "    <tr>\n",
       "      <th>min</th>\n",
       "      <td>1.000000</td>\n",
       "      <td>0.000000</td>\n",
       "      <td>0.000000</td>\n",
       "      <td>0.000000</td>\n",
       "      <td>0.000000</td>\n",
       "      <td>18.250000</td>\n",
       "      <td>0.000000</td>\n",
       "      <td>0.000000</td>\n",
       "      <td>0.000000</td>\n",
       "      <td>0.000000</td>\n",
       "      <td>0.000000</td>\n",
       "      <td>0.000000</td>\n",
       "      <td>0.000000</td>\n",
       "      <td>0.000000</td>\n",
       "      <td>0.000000</td>\n",
       "      <td>0.000000</td>\n",
       "      <td>1.000000</td>\n",
       "    </tr>\n",
       "    <tr>\n",
       "      <th>25%</th>\n",
       "      <td>1761.500000</td>\n",
       "      <td>0.000000</td>\n",
       "      <td>10.000000</td>\n",
       "      <td>1.000000</td>\n",
       "      <td>0.000000</td>\n",
       "      <td>35.500000</td>\n",
       "      <td>398.550000</td>\n",
       "      <td>0.000000</td>\n",
       "      <td>0.000000</td>\n",
       "      <td>1.000000</td>\n",
       "      <td>0.000000</td>\n",
       "      <td>0.000000</td>\n",
       "      <td>0.000000</td>\n",
       "      <td>0.000000</td>\n",
       "      <td>0.000000</td>\n",
       "      <td>0.000000</td>\n",
       "      <td>2.000000</td>\n",
       "    </tr>\n",
       "    <tr>\n",
       "      <th>50%</th>\n",
       "      <td>3522.000000</td>\n",
       "      <td>0.000000</td>\n",
       "      <td>32.000000</td>\n",
       "      <td>1.000000</td>\n",
       "      <td>0.000000</td>\n",
       "      <td>70.350000</td>\n",
       "      <td>1394.550000</td>\n",
       "      <td>0.000000</td>\n",
       "      <td>0.000000</td>\n",
       "      <td>1.000000</td>\n",
       "      <td>0.000000</td>\n",
       "      <td>0.000000</td>\n",
       "      <td>0.000000</td>\n",
       "      <td>0.000000</td>\n",
       "      <td>0.000000</td>\n",
       "      <td>0.000000</td>\n",
       "      <td>4.000000</td>\n",
       "    </tr>\n",
       "    <tr>\n",
       "      <th>75%</th>\n",
       "      <td>5282.500000</td>\n",
       "      <td>0.000000</td>\n",
       "      <td>53.000000</td>\n",
       "      <td>1.000000</td>\n",
       "      <td>1.000000</td>\n",
       "      <td>89.850000</td>\n",
       "      <td>3786.600000</td>\n",
       "      <td>1.000000</td>\n",
       "      <td>0.000000</td>\n",
       "      <td>1.000000</td>\n",
       "      <td>1.000000</td>\n",
       "      <td>1.000000</td>\n",
       "      <td>1.000000</td>\n",
       "      <td>1.000000</td>\n",
       "      <td>1.000000</td>\n",
       "      <td>1.000000</td>\n",
       "      <td>6.000000</td>\n",
       "    </tr>\n",
       "    <tr>\n",
       "      <th>max</th>\n",
       "      <td>7043.000000</td>\n",
       "      <td>1.000000</td>\n",
       "      <td>72.000000</td>\n",
       "      <td>1.000000</td>\n",
       "      <td>1.000000</td>\n",
       "      <td>118.750000</td>\n",
       "      <td>8684.800000</td>\n",
       "      <td>9999.000000</td>\n",
       "      <td>1.000000</td>\n",
       "      <td>1.000000</td>\n",
       "      <td>1.000000</td>\n",
       "      <td>1.000000</td>\n",
       "      <td>1.000000</td>\n",
       "      <td>1.000000</td>\n",
       "      <td>1.000000</td>\n",
       "      <td>1.000000</td>\n",
       "      <td>9.000000</td>\n",
       "    </tr>\n",
       "  </tbody>\n",
       "</table>\n",
       "</div>"
      ],
      "text/plain": [
       "                id  SeniorCitizen       tenure  PhoneService  MultipleLines  \\\n",
       "count  7043.000000    7043.000000  7043.000000   7043.000000    7043.000000   \n",
       "mean   3522.000000       0.162147    32.328979      0.903166       0.421837   \n",
       "std    2033.283305       0.368612    23.507909      0.295752       0.493888   \n",
       "min       1.000000       0.000000     0.000000      0.000000       0.000000   \n",
       "25%    1761.500000       0.000000    10.000000      1.000000       0.000000   \n",
       "50%    3522.000000       0.000000    32.000000      1.000000       0.000000   \n",
       "75%    5282.500000       0.000000    53.000000      1.000000       1.000000   \n",
       "max    7043.000000       1.000000    72.000000      1.000000       1.000000   \n",
       "\n",
       "       MonthlyCharges  TotalCharges        Churn         test  \\\n",
       "count     7043.000000   7043.000000  7043.000000  7043.000000   \n",
       "mean        64.761692   2279.734304  2000.580151     0.200057   \n",
       "std         30.090047   2266.794470  4000.203711     0.400071   \n",
       "min         18.250000      0.000000     0.000000     0.000000   \n",
       "25%         35.500000    398.550000     0.000000     0.000000   \n",
       "50%         70.350000   1394.550000     0.000000     0.000000   \n",
       "75%         89.850000   3786.600000     1.000000     0.000000   \n",
       "max        118.750000   8684.800000  9999.000000     1.000000   \n",
       "\n",
       "       InternetService2  OnlineSecurity2  OnlineBackup2  DeviceProtection2  \\\n",
       "count       7043.000000      7043.000000    7043.000000        7043.000000   \n",
       "mean           0.783331         0.286668       0.344881           0.343888   \n",
       "std            0.412004         0.452237       0.475363           0.475038   \n",
       "min            0.000000         0.000000       0.000000           0.000000   \n",
       "25%            1.000000         0.000000       0.000000           0.000000   \n",
       "50%            1.000000         0.000000       0.000000           0.000000   \n",
       "75%            1.000000         1.000000       1.000000           1.000000   \n",
       "max            1.000000         1.000000       1.000000           1.000000   \n",
       "\n",
       "       TechSupport2  StreamingTV2  StreamingMovies2     Produtos  \n",
       "count   7043.000000   7043.000000       7043.000000  7043.000000  \n",
       "mean       0.290217      0.384353          0.387903     4.146244  \n",
       "std        0.453895      0.486477          0.487307     2.312720  \n",
       "min        0.000000      0.000000          0.000000     1.000000  \n",
       "25%        0.000000      0.000000          0.000000     2.000000  \n",
       "50%        0.000000      0.000000          0.000000     4.000000  \n",
       "75%        1.000000      1.000000          1.000000     6.000000  \n",
       "max        1.000000      1.000000          1.000000     9.000000  "
      ]
     },
     "execution_count": 229,
     "metadata": {},
     "output_type": "execute_result"
    }
   ],
   "source": [
    "df.describe()"
   ]
  },
  {
   "cell_type": "markdown",
   "metadata": {},
   "source": [
    "### Box plots para substituir outliers caso necessário"
   ]
  },
  {
   "cell_type": "code",
   "execution_count": 230,
   "metadata": {
    "scrolled": true
   },
   "outputs": [
    {
     "data": {
      "image/png": "[encoded data removed]",
      "text/plain": [
       "<Figure size 288x216 with 1 Axes>"
      ]
     },
     "metadata": {},
     "output_type": "display_data"
    }
   ],
   "source": [
    "fig, ax = plt.subplots(figsize=(4, 3))\n",
    "\n",
    "sns.boxplot(data=df.tenure, ax=ax);\n",
    "\n"
   ]
  },
  {
   "cell_type": "code",
   "execution_count": 231,
   "metadata": {},
   "outputs": [
    {
     "data": {
      "image/png": "[encoded data removed]",
      "text/plain": [
       "<Figure size 288x216 with 1 Axes>"
      ]
     },
     "metadata": {},
     "output_type": "display_data"
    }
   ],
   "source": [
    "fig, ax = plt.subplots(figsize=(4, 3))\n",
    "sns.boxplot(data=df.MonthlyCharges, ax=ax);\n"
   ]
  },
  {
   "cell_type": "code",
   "execution_count": 232,
   "metadata": {},
   "outputs": [
    {
     "data": {
      "image/png": "[encoded data removed]",
      "text/plain": [
       "<Figure size 288x216 with 1 Axes>"
      ]
     },
     "metadata": {},
     "output_type": "display_data"
    }
   ],
   "source": [
    "fig, ax = plt.subplots(figsize=(4, 3))\n",
    "sns.boxplot(data=df.TotalCharges, ax=ax);\n"
   ]
  },
  {
   "cell_type": "markdown",
   "metadata": {},
   "source": [
    "### Heat map pra ver relação entre variáveis"
   ]
  },
  {
   "cell_type": "code",
   "execution_count": 233,
   "metadata": {},
   "outputs": [
    {
     "data": {
      "image/png": "[encoded data removed]",
      "text/plain": [
       "<Figure size 720x432 with 2 Axes>"
      ]
     },
     "metadata": {},
     "output_type": "display_data"
    }
   ],
   "source": [
    "import seaborn as sns\n",
    "\n",
    "plt.figure(figsize=(10, 6))\n",
    "\n",
    "vg_corr = df.corr().round(1)\n",
    "sns.heatmap(vg_corr, \n",
    "            xticklabels = vg_corr.columns.values,\n",
    "            yticklabels = vg_corr.columns.values,\n",
    "            annot = True);"
   ]
  },
  {
   "cell_type": "markdown",
   "metadata": {},
   "source": [
    "### Dummyzar var categóricas"
   ]
  },
  {
   "cell_type": "code",
   "execution_count": 234,
   "metadata": {},
   "outputs": [
    {
     "data": {
      "text/html": [
       "<div>\n",
       "<style scoped>\n",
       "    .dataframe tbody tr th:only-of-type {\n",
       "        vertical-align: middle;\n",
       "    }\n",
       "\n",
       "    .dataframe tbody tr th {\n",
       "        vertical-align: top;\n",
       "    }\n",
       "\n",
       "    .dataframe thead th {\n",
       "        text-align: right;\n",
       "    }\n",
       "</style>\n",
       "<table border=\"1\" class=\"dataframe\">\n",
       "  <thead>\n",
       "    <tr style=\"text-align: right;\">\n",
       "      <th></th>\n",
       "      <th>gender_Male</th>\n",
       "      <th>SeniorCitizen_1</th>\n",
       "      <th>Partner_Yes</th>\n",
       "      <th>Dependents_No</th>\n",
       "      <th>Dependents_Yes</th>\n",
       "      <th>PhoneService_1.0</th>\n",
       "      <th>MultipleLines_1.0</th>\n",
       "      <th>InternetService_Fiber optic</th>\n",
       "      <th>InternetService_No</th>\n",
       "      <th>OnlineSecurity_No internet service</th>\n",
       "      <th>...</th>\n",
       "      <th>StreamingTV_No internet service</th>\n",
       "      <th>StreamingTV_Yes</th>\n",
       "      <th>StreamingMovies_No internet service</th>\n",
       "      <th>StreamingMovies_Yes</th>\n",
       "      <th>Contract_One year</th>\n",
       "      <th>Contract_Two year</th>\n",
       "      <th>PaperlessBilling_Yes</th>\n",
       "      <th>PaymentMethod_Credit card (automatic)</th>\n",
       "      <th>PaymentMethod_Electronic check</th>\n",
       "      <th>PaymentMethod_Mailed check</th>\n",
       "    </tr>\n",
       "  </thead>\n",
       "  <tbody>\n",
       "    <tr>\n",
       "      <th>0</th>\n",
       "      <td>0</td>\n",
       "      <td>0</td>\n",
       "      <td>0</td>\n",
       "      <td>1</td>\n",
       "      <td>0</td>\n",
       "      <td>0</td>\n",
       "      <td>0</td>\n",
       "      <td>0</td>\n",
       "      <td>0</td>\n",
       "      <td>0</td>\n",
       "      <td>...</td>\n",
       "      <td>0</td>\n",
       "      <td>0</td>\n",
       "      <td>0</td>\n",
       "      <td>0</td>\n",
       "      <td>0</td>\n",
       "      <td>1</td>\n",
       "      <td>0</td>\n",
       "      <td>0</td>\n",
       "      <td>1</td>\n",
       "      <td>0</td>\n",
       "    </tr>\n",
       "    <tr>\n",
       "      <th>1</th>\n",
       "      <td>1</td>\n",
       "      <td>0</td>\n",
       "      <td>1</td>\n",
       "      <td>0</td>\n",
       "      <td>1</td>\n",
       "      <td>1</td>\n",
       "      <td>0</td>\n",
       "      <td>0</td>\n",
       "      <td>1</td>\n",
       "      <td>1</td>\n",
       "      <td>...</td>\n",
       "      <td>1</td>\n",
       "      <td>0</td>\n",
       "      <td>1</td>\n",
       "      <td>0</td>\n",
       "      <td>1</td>\n",
       "      <td>0</td>\n",
       "      <td>0</td>\n",
       "      <td>0</td>\n",
       "      <td>0</td>\n",
       "      <td>1</td>\n",
       "    </tr>\n",
       "    <tr>\n",
       "      <th>2</th>\n",
       "      <td>0</td>\n",
       "      <td>0</td>\n",
       "      <td>1</td>\n",
       "      <td>1</td>\n",
       "      <td>0</td>\n",
       "      <td>1</td>\n",
       "      <td>1</td>\n",
       "      <td>1</td>\n",
       "      <td>0</td>\n",
       "      <td>0</td>\n",
       "      <td>...</td>\n",
       "      <td>0</td>\n",
       "      <td>1</td>\n",
       "      <td>0</td>\n",
       "      <td>1</td>\n",
       "      <td>0</td>\n",
       "      <td>1</td>\n",
       "      <td>1</td>\n",
       "      <td>1</td>\n",
       "      <td>0</td>\n",
       "      <td>0</td>\n",
       "    </tr>\n",
       "    <tr>\n",
       "      <th>3</th>\n",
       "      <td>0</td>\n",
       "      <td>0</td>\n",
       "      <td>0</td>\n",
       "      <td>1</td>\n",
       "      <td>0</td>\n",
       "      <td>1</td>\n",
       "      <td>1</td>\n",
       "      <td>1</td>\n",
       "      <td>0</td>\n",
       "      <td>0</td>\n",
       "      <td>...</td>\n",
       "      <td>0</td>\n",
       "      <td>1</td>\n",
       "      <td>0</td>\n",
       "      <td>1</td>\n",
       "      <td>0</td>\n",
       "      <td>0</td>\n",
       "      <td>1</td>\n",
       "      <td>0</td>\n",
       "      <td>0</td>\n",
       "      <td>0</td>\n",
       "    </tr>\n",
       "    <tr>\n",
       "      <th>4</th>\n",
       "      <td>1</td>\n",
       "      <td>0</td>\n",
       "      <td>1</td>\n",
       "      <td>0</td>\n",
       "      <td>1</td>\n",
       "      <td>1</td>\n",
       "      <td>0</td>\n",
       "      <td>1</td>\n",
       "      <td>0</td>\n",
       "      <td>0</td>\n",
       "      <td>...</td>\n",
       "      <td>0</td>\n",
       "      <td>0</td>\n",
       "      <td>0</td>\n",
       "      <td>0</td>\n",
       "      <td>0</td>\n",
       "      <td>0</td>\n",
       "      <td>1</td>\n",
       "      <td>0</td>\n",
       "      <td>1</td>\n",
       "      <td>0</td>\n",
       "    </tr>\n",
       "    <tr>\n",
       "      <th>...</th>\n",
       "      <td>...</td>\n",
       "      <td>...</td>\n",
       "      <td>...</td>\n",
       "      <td>...</td>\n",
       "      <td>...</td>\n",
       "      <td>...</td>\n",
       "      <td>...</td>\n",
       "      <td>...</td>\n",
       "      <td>...</td>\n",
       "      <td>...</td>\n",
       "      <td>...</td>\n",
       "      <td>...</td>\n",
       "      <td>...</td>\n",
       "      <td>...</td>\n",
       "      <td>...</td>\n",
       "      <td>...</td>\n",
       "      <td>...</td>\n",
       "      <td>...</td>\n",
       "      <td>...</td>\n",
       "      <td>...</td>\n",
       "      <td>...</td>\n",
       "    </tr>\n",
       "    <tr>\n",
       "      <th>7038</th>\n",
       "      <td>1</td>\n",
       "      <td>0</td>\n",
       "      <td>0</td>\n",
       "      <td>0</td>\n",
       "      <td>0</td>\n",
       "      <td>1</td>\n",
       "      <td>0</td>\n",
       "      <td>0</td>\n",
       "      <td>0</td>\n",
       "      <td>0</td>\n",
       "      <td>...</td>\n",
       "      <td>0</td>\n",
       "      <td>0</td>\n",
       "      <td>0</td>\n",
       "      <td>0</td>\n",
       "      <td>0</td>\n",
       "      <td>0</td>\n",
       "      <td>1</td>\n",
       "      <td>0</td>\n",
       "      <td>0</td>\n",
       "      <td>1</td>\n",
       "    </tr>\n",
       "    <tr>\n",
       "      <th>7039</th>\n",
       "      <td>1</td>\n",
       "      <td>0</td>\n",
       "      <td>0</td>\n",
       "      <td>1</td>\n",
       "      <td>0</td>\n",
       "      <td>1</td>\n",
       "      <td>0</td>\n",
       "      <td>1</td>\n",
       "      <td>0</td>\n",
       "      <td>0</td>\n",
       "      <td>...</td>\n",
       "      <td>0</td>\n",
       "      <td>0</td>\n",
       "      <td>0</td>\n",
       "      <td>1</td>\n",
       "      <td>1</td>\n",
       "      <td>0</td>\n",
       "      <td>1</td>\n",
       "      <td>0</td>\n",
       "      <td>1</td>\n",
       "      <td>0</td>\n",
       "    </tr>\n",
       "    <tr>\n",
       "      <th>7040</th>\n",
       "      <td>0</td>\n",
       "      <td>0</td>\n",
       "      <td>1</td>\n",
       "      <td>1</td>\n",
       "      <td>0</td>\n",
       "      <td>1</td>\n",
       "      <td>0</td>\n",
       "      <td>0</td>\n",
       "      <td>0</td>\n",
       "      <td>0</td>\n",
       "      <td>...</td>\n",
       "      <td>0</td>\n",
       "      <td>1</td>\n",
       "      <td>0</td>\n",
       "      <td>0</td>\n",
       "      <td>0</td>\n",
       "      <td>1</td>\n",
       "      <td>1</td>\n",
       "      <td>1</td>\n",
       "      <td>0</td>\n",
       "      <td>0</td>\n",
       "    </tr>\n",
       "    <tr>\n",
       "      <th>7041</th>\n",
       "      <td>1</td>\n",
       "      <td>1</td>\n",
       "      <td>1</td>\n",
       "      <td>0</td>\n",
       "      <td>1</td>\n",
       "      <td>1</td>\n",
       "      <td>1</td>\n",
       "      <td>1</td>\n",
       "      <td>0</td>\n",
       "      <td>0</td>\n",
       "      <td>...</td>\n",
       "      <td>0</td>\n",
       "      <td>0</td>\n",
       "      <td>0</td>\n",
       "      <td>0</td>\n",
       "      <td>0</td>\n",
       "      <td>0</td>\n",
       "      <td>1</td>\n",
       "      <td>1</td>\n",
       "      <td>0</td>\n",
       "      <td>0</td>\n",
       "    </tr>\n",
       "    <tr>\n",
       "      <th>7042</th>\n",
       "      <td>1</td>\n",
       "      <td>0</td>\n",
       "      <td>1</td>\n",
       "      <td>0</td>\n",
       "      <td>1</td>\n",
       "      <td>1</td>\n",
       "      <td>1</td>\n",
       "      <td>0</td>\n",
       "      <td>0</td>\n",
       "      <td>0</td>\n",
       "      <td>...</td>\n",
       "      <td>0</td>\n",
       "      <td>1</td>\n",
       "      <td>0</td>\n",
       "      <td>1</td>\n",
       "      <td>0</td>\n",
       "      <td>1</td>\n",
       "      <td>1</td>\n",
       "      <td>0</td>\n",
       "      <td>0</td>\n",
       "      <td>0</td>\n",
       "    </tr>\n",
       "  </tbody>\n",
       "</table>\n",
       "<p>7043 rows × 27 columns</p>\n",
       "</div>"
      ],
      "text/plain": [
       "      gender_Male  SeniorCitizen_1  Partner_Yes  Dependents_No  \\\n",
       "0               0                0            0              1   \n",
       "1               1                0            1              0   \n",
       "2               0                0            1              1   \n",
       "3               0                0            0              1   \n",
       "4               1                0            1              0   \n",
       "...           ...              ...          ...            ...   \n",
       "7038            1                0            0              0   \n",
       "7039            1                0            0              1   \n",
       "7040            0                0            1              1   \n",
       "7041            1                1            1              0   \n",
       "7042            1                0            1              0   \n",
       "\n",
       "      Dependents_Yes  PhoneService_1.0  MultipleLines_1.0  \\\n",
       "0                  0                 0                  0   \n",
       "1                  1                 1                  0   \n",
       "2                  0                 1                  1   \n",
       "3                  0                 1                  1   \n",
       "4                  1                 1                  0   \n",
       "...              ...               ...                ...   \n",
       "7038               0                 1                  0   \n",
       "7039               0                 1                  0   \n",
       "7040               0                 1                  0   \n",
       "7041               1                 1                  1   \n",
       "7042               1                 1                  1   \n",
       "\n",
       "      InternetService_Fiber optic  InternetService_No  \\\n",
       "0                               0                   0   \n",
       "1                               0                   1   \n",
       "2                               1                   0   \n",
       "3                               1                   0   \n",
       "4                               1                   0   \n",
       "...                           ...                 ...   \n",
       "7038                            0                   0   \n",
       "7039                            1                   0   \n",
       "7040                            0                   0   \n",
       "7041                            1                   0   \n",
       "7042                            0                   0   \n",
       "\n",
       "      OnlineSecurity_No internet service  ...  \\\n",
       "0                                      0  ...   \n",
       "1                                      1  ...   \n",
       "2                                      0  ...   \n",
       "3                                      0  ...   \n",
       "4                                      0  ...   \n",
       "...                                  ...  ...   \n",
       "7038                                   0  ...   \n",
       "7039                                   0  ...   \n",
       "7040                                   0  ...   \n",
       "7041                                   0  ...   \n",
       "7042                                   0  ...   \n",
       "\n",
       "      StreamingTV_No internet service  StreamingTV_Yes  \\\n",
       "0                                   0                0   \n",
       "1                                   1                0   \n",
       "2                                   0                1   \n",
       "3                                   0                1   \n",
       "4                                   0                0   \n",
       "...                               ...              ...   \n",
       "7038                                0                0   \n",
       "7039                                0                0   \n",
       "7040                                0                1   \n",
       "7041                                0                0   \n",
       "7042                                0                1   \n",
       "\n",
       "      StreamingMovies_No internet service  StreamingMovies_Yes  \\\n",
       "0                                       0                    0   \n",
       "1                                       1                    0   \n",
       "2                                       0                    1   \n",
       "3                                       0                    1   \n",
       "4                                       0                    0   \n",
       "...                                   ...                  ...   \n",
       "7038                                    0                    0   \n",
       "7039                                    0                    1   \n",
       "7040                                    0                    0   \n",
       "7041                                    0                    0   \n",
       "7042                                    0                    1   \n",
       "\n",
       "      Contract_One year  Contract_Two year  PaperlessBilling_Yes  \\\n",
       "0                     0                  1                     0   \n",
       "1                     1                  0                     0   \n",
       "2                     0                  1                     1   \n",
       "3                     0                  0                     1   \n",
       "4                     0                  0                     1   \n",
       "...                 ...                ...                   ...   \n",
       "7038                  0                  0                     1   \n",
       "7039                  1                  0                     1   \n",
       "7040                  0                  1                     1   \n",
       "7041                  0                  0                     1   \n",
       "7042                  0                  1                     1   \n",
       "\n",
       "      PaymentMethod_Credit card (automatic)  PaymentMethod_Electronic check  \\\n",
       "0                                         0                               1   \n",
       "1                                         0                               0   \n",
       "2                                         1                               0   \n",
       "3                                         0                               0   \n",
       "4                                         0                               1   \n",
       "...                                     ...                             ...   \n",
       "7038                                      0                               0   \n",
       "7039                                      0                               1   \n",
       "7040                                      1                               0   \n",
       "7041                                      1                               0   \n",
       "7042                                      0                               0   \n",
       "\n",
       "      PaymentMethod_Mailed check  \n",
       "0                              0  \n",
       "1                              1  \n",
       "2                              0  \n",
       "3                              0  \n",
       "4                              0  \n",
       "...                          ...  \n",
       "7038                           1  \n",
       "7039                           0  \n",
       "7040                           0  \n",
       "7041                           0  \n",
       "7042                           0  \n",
       "\n",
       "[7043 rows x 27 columns]"
      ]
     },
     "execution_count": 234,
     "metadata": {},
     "output_type": "execute_result"
    }
   ],
   "source": [
    "#one hot enconder = dummies\n",
    "df_onehot = df[quali].copy()\n",
    "df_onehot = pd.get_dummies(df_onehot, columns = quali , drop_first = True)\n",
    "df_onehot"
   ]
  },
  {
   "cell_type": "code",
   "execution_count": 235,
   "metadata": {},
   "outputs": [
    {
     "data": {
      "text/plain": [
       "gender_Male                              uint8\n",
       "SeniorCitizen_1                          uint8\n",
       "Partner_Yes                              uint8\n",
       "Dependents_No                            uint8\n",
       "Dependents_Yes                           uint8\n",
       "PhoneService_1.0                         uint8\n",
       "MultipleLines_1.0                        uint8\n",
       "InternetService_Fiber optic              uint8\n",
       "InternetService_No                       uint8\n",
       "OnlineSecurity_No internet service       uint8\n",
       "OnlineSecurity_Yes                       uint8\n",
       "OnlineBackup_No internet service         uint8\n",
       "OnlineBackup_Yes                         uint8\n",
       "DeviceProtection_No internet service     uint8\n",
       "DeviceProtection_Yes                     uint8\n",
       "TechSupport_No internet service          uint8\n",
       "TechSupport_Yes                          uint8\n",
       "StreamingTV_No internet service          uint8\n",
       "StreamingTV_Yes                          uint8\n",
       "StreamingMovies_No internet service      uint8\n",
       "StreamingMovies_Yes                      uint8\n",
       "Contract_One year                        uint8\n",
       "Contract_Two year                        uint8\n",
       "PaperlessBilling_Yes                     uint8\n",
       "PaymentMethod_Credit card (automatic)    uint8\n",
       "PaymentMethod_Electronic check           uint8\n",
       "PaymentMethod_Mailed check               uint8\n",
       "dtype: object"
      ]
     },
     "execution_count": 235,
     "metadata": {},
     "output_type": "execute_result"
    }
   ],
   "source": [
    "df_onehot.dtypes"
   ]
  },
  {
   "cell_type": "markdown",
   "metadata": {},
   "source": [
    "### Juntando categoricas na base de novo"
   ]
  },
  {
   "cell_type": "code",
   "execution_count": 236,
   "metadata": {},
   "outputs": [
    {
     "data": {
      "text/html": [
       "<div>\n",
       "<style scoped>\n",
       "    .dataframe tbody tr th:only-of-type {\n",
       "        vertical-align: middle;\n",
       "    }\n",
       "\n",
       "    .dataframe tbody tr th {\n",
       "        vertical-align: top;\n",
       "    }\n",
       "\n",
       "    .dataframe thead th {\n",
       "        text-align: right;\n",
       "    }\n",
       "</style>\n",
       "<table border=\"1\" class=\"dataframe\">\n",
       "  <thead>\n",
       "    <tr style=\"text-align: right;\">\n",
       "      <th></th>\n",
       "      <th>tenure</th>\n",
       "      <th>MonthlyCharges</th>\n",
       "      <th>TotalCharges</th>\n",
       "      <th>Churn</th>\n",
       "      <th>test</th>\n",
       "      <th>InternetService2</th>\n",
       "      <th>OnlineSecurity2</th>\n",
       "      <th>OnlineBackup2</th>\n",
       "      <th>DeviceProtection2</th>\n",
       "      <th>TechSupport2</th>\n",
       "      <th>...</th>\n",
       "      <th>StreamingTV_No internet service</th>\n",
       "      <th>StreamingTV_Yes</th>\n",
       "      <th>StreamingMovies_No internet service</th>\n",
       "      <th>StreamingMovies_Yes</th>\n",
       "      <th>Contract_One year</th>\n",
       "      <th>Contract_Two year</th>\n",
       "      <th>PaperlessBilling_Yes</th>\n",
       "      <th>PaymentMethod_Credit card (automatic)</th>\n",
       "      <th>PaymentMethod_Electronic check</th>\n",
       "      <th>PaymentMethod_Mailed check</th>\n",
       "    </tr>\n",
       "  </thead>\n",
       "  <tbody>\n",
       "    <tr>\n",
       "      <th>0</th>\n",
       "      <td>56.0</td>\n",
       "      <td>45.05</td>\n",
       "      <td>2560.10</td>\n",
       "      <td>0</td>\n",
       "      <td>0</td>\n",
       "      <td>1.0</td>\n",
       "      <td>1.0</td>\n",
       "      <td>1.0</td>\n",
       "      <td>1.0</td>\n",
       "      <td>1.0</td>\n",
       "      <td>...</td>\n",
       "      <td>0</td>\n",
       "      <td>0</td>\n",
       "      <td>0</td>\n",
       "      <td>0</td>\n",
       "      <td>0</td>\n",
       "      <td>1</td>\n",
       "      <td>0</td>\n",
       "      <td>0</td>\n",
       "      <td>1</td>\n",
       "      <td>0</td>\n",
       "    </tr>\n",
       "    <tr>\n",
       "      <th>1</th>\n",
       "      <td>32.0</td>\n",
       "      <td>19.65</td>\n",
       "      <td>332.65</td>\n",
       "      <td>0</td>\n",
       "      <td>0</td>\n",
       "      <td>0.0</td>\n",
       "      <td>0.0</td>\n",
       "      <td>0.0</td>\n",
       "      <td>0.0</td>\n",
       "      <td>0.0</td>\n",
       "      <td>...</td>\n",
       "      <td>1</td>\n",
       "      <td>0</td>\n",
       "      <td>1</td>\n",
       "      <td>0</td>\n",
       "      <td>1</td>\n",
       "      <td>0</td>\n",
       "      <td>0</td>\n",
       "      <td>0</td>\n",
       "      <td>0</td>\n",
       "      <td>1</td>\n",
       "    </tr>\n",
       "    <tr>\n",
       "      <th>2</th>\n",
       "      <td>60.0</td>\n",
       "      <td>110.80</td>\n",
       "      <td>6640.70</td>\n",
       "      <td>0</td>\n",
       "      <td>0</td>\n",
       "      <td>1.0</td>\n",
       "      <td>0.0</td>\n",
       "      <td>1.0</td>\n",
       "      <td>1.0</td>\n",
       "      <td>1.0</td>\n",
       "      <td>...</td>\n",
       "      <td>0</td>\n",
       "      <td>1</td>\n",
       "      <td>0</td>\n",
       "      <td>1</td>\n",
       "      <td>0</td>\n",
       "      <td>1</td>\n",
       "      <td>1</td>\n",
       "      <td>1</td>\n",
       "      <td>0</td>\n",
       "      <td>0</td>\n",
       "    </tr>\n",
       "    <tr>\n",
       "      <th>3</th>\n",
       "      <td>37.0</td>\n",
       "      <td>101.90</td>\n",
       "      <td>3545.35</td>\n",
       "      <td>1</td>\n",
       "      <td>0</td>\n",
       "      <td>1.0</td>\n",
       "      <td>0.0</td>\n",
       "      <td>1.0</td>\n",
       "      <td>1.0</td>\n",
       "      <td>0.0</td>\n",
       "      <td>...</td>\n",
       "      <td>0</td>\n",
       "      <td>1</td>\n",
       "      <td>0</td>\n",
       "      <td>1</td>\n",
       "      <td>0</td>\n",
       "      <td>0</td>\n",
       "      <td>1</td>\n",
       "      <td>0</td>\n",
       "      <td>0</td>\n",
       "      <td>0</td>\n",
       "    </tr>\n",
       "    <tr>\n",
       "      <th>4</th>\n",
       "      <td>29.0</td>\n",
       "      <td>70.75</td>\n",
       "      <td>1974.80</td>\n",
       "      <td>1</td>\n",
       "      <td>0</td>\n",
       "      <td>1.0</td>\n",
       "      <td>0.0</td>\n",
       "      <td>0.0</td>\n",
       "      <td>0.0</td>\n",
       "      <td>0.0</td>\n",
       "      <td>...</td>\n",
       "      <td>0</td>\n",
       "      <td>0</td>\n",
       "      <td>0</td>\n",
       "      <td>0</td>\n",
       "      <td>0</td>\n",
       "      <td>0</td>\n",
       "      <td>1</td>\n",
       "      <td>0</td>\n",
       "      <td>1</td>\n",
       "      <td>0</td>\n",
       "    </tr>\n",
       "  </tbody>\n",
       "</table>\n",
       "<p>5 rows × 40 columns</p>\n",
       "</div>"
      ],
      "text/plain": [
       "   tenure  MonthlyCharges  TotalCharges  Churn  test  InternetService2  \\\n",
       "0    56.0           45.05       2560.10      0     0               1.0   \n",
       "1    32.0           19.65        332.65      0     0               0.0   \n",
       "2    60.0          110.80       6640.70      0     0               1.0   \n",
       "3    37.0          101.90       3545.35      1     0               1.0   \n",
       "4    29.0           70.75       1974.80      1     0               1.0   \n",
       "\n",
       "   OnlineSecurity2  OnlineBackup2  DeviceProtection2  TechSupport2  ...  \\\n",
       "0              1.0            1.0                1.0           1.0  ...   \n",
       "1              0.0            0.0                0.0           0.0  ...   \n",
       "2              0.0            1.0                1.0           1.0  ...   \n",
       "3              0.0            1.0                1.0           0.0  ...   \n",
       "4              0.0            0.0                0.0           0.0  ...   \n",
       "\n",
       "   StreamingTV_No internet service  StreamingTV_Yes  \\\n",
       "0                                0                0   \n",
       "1                                1                0   \n",
       "2                                0                1   \n",
       "3                                0                1   \n",
       "4                                0                0   \n",
       "\n",
       "   StreamingMovies_No internet service  StreamingMovies_Yes  \\\n",
       "0                                    0                    0   \n",
       "1                                    1                    0   \n",
       "2                                    0                    1   \n",
       "3                                    0                    1   \n",
       "4                                    0                    0   \n",
       "\n",
       "   Contract_One year  Contract_Two year  PaperlessBilling_Yes  \\\n",
       "0                  0                  1                     0   \n",
       "1                  1                  0                     0   \n",
       "2                  0                  1                     1   \n",
       "3                  0                  0                     1   \n",
       "4                  0                  0                     1   \n",
       "\n",
       "   PaymentMethod_Credit card (automatic)  PaymentMethod_Electronic check  \\\n",
       "0                                      0                               1   \n",
       "1                                      0                               0   \n",
       "2                                      1                               0   \n",
       "3                                      0                               0   \n",
       "4                                      0                               1   \n",
       "\n",
       "   PaymentMethod_Mailed check  \n",
       "0                           0  \n",
       "1                           1  \n",
       "2                           0  \n",
       "3                           0  \n",
       "4                           0  \n",
       "\n",
       "[5 rows x 40 columns]"
      ]
     },
     "execution_count": 236,
     "metadata": {},
     "output_type": "execute_result"
    }
   ],
   "source": [
    "df2 = pd.concat([df.drop(quali + ['id'], axis=1), df_onehot], axis=1)\n",
    "df2.head()"
   ]
  },
  {
   "cell_type": "code",
   "execution_count": 237,
   "metadata": {},
   "outputs": [
    {
     "data": {
      "image/png": "[encoded data removed]",
      "text/plain": [
       "<Figure size 720x432 with 2 Axes>"
      ]
     },
     "metadata": {},
     "output_type": "display_data"
    }
   ],
   "source": [
    "import seaborn as sns\n",
    "\n",
    "plt.figure(figsize=(10, 6))\n",
    "\n",
    "vg_corr = df2.corr().round(1)\n",
    "sns.heatmap(vg_corr, \n",
    "            xticklabels = vg_corr.columns.values,\n",
    "            yticklabels = vg_corr.columns.values,\n",
    "            annot = True);"
   ]
  },
  {
   "cell_type": "markdown",
   "metadata": {},
   "source": [
    "### Train test split"
   ]
  },
  {
   "cell_type": "code",
   "execution_count": 238,
   "metadata": {},
   "outputs": [],
   "source": [
    "#agora eu tenho uma base pronta pra modelar mas preciso tirar os dados que são do test "
   ]
  },
  {
   "cell_type": "code",
   "execution_count": 239,
   "metadata": {},
   "outputs": [],
   "source": [
    "#treino\n",
    "newdf = df2[(df2.test == 0)]"
   ]
  },
  {
   "cell_type": "code",
   "execution_count": 240,
   "metadata": {},
   "outputs": [],
   "source": [
    "#essa é a base que tem o teste (precisa enviar resposta disso pro desafio)\n",
    "df_desafio = df2[(df2.test == 1)]"
   ]
  },
  {
   "cell_type": "code",
   "execution_count": 241,
   "metadata": {},
   "outputs": [
    {
     "data": {
      "text/html": [
       "<div>\n",
       "<style scoped>\n",
       "    .dataframe tbody tr th:only-of-type {\n",
       "        vertical-align: middle;\n",
       "    }\n",
       "\n",
       "    .dataframe tbody tr th {\n",
       "        vertical-align: top;\n",
       "    }\n",
       "\n",
       "    .dataframe thead th {\n",
       "        text-align: right;\n",
       "    }\n",
       "</style>\n",
       "<table border=\"1\" class=\"dataframe\">\n",
       "  <thead>\n",
       "    <tr style=\"text-align: right;\">\n",
       "      <th></th>\n",
       "      <th>tenure</th>\n",
       "      <th>MonthlyCharges</th>\n",
       "      <th>TotalCharges</th>\n",
       "      <th>Churn</th>\n",
       "      <th>test</th>\n",
       "      <th>InternetService2</th>\n",
       "      <th>OnlineSecurity2</th>\n",
       "      <th>OnlineBackup2</th>\n",
       "      <th>DeviceProtection2</th>\n",
       "      <th>TechSupport2</th>\n",
       "      <th>...</th>\n",
       "      <th>StreamingTV_No internet service</th>\n",
       "      <th>StreamingTV_Yes</th>\n",
       "      <th>StreamingMovies_No internet service</th>\n",
       "      <th>StreamingMovies_Yes</th>\n",
       "      <th>Contract_One year</th>\n",
       "      <th>Contract_Two year</th>\n",
       "      <th>PaperlessBilling_Yes</th>\n",
       "      <th>PaymentMethod_Credit card (automatic)</th>\n",
       "      <th>PaymentMethod_Electronic check</th>\n",
       "      <th>PaymentMethod_Mailed check</th>\n",
       "    </tr>\n",
       "  </thead>\n",
       "  <tbody>\n",
       "    <tr>\n",
       "      <th>5634</th>\n",
       "      <td>23.0</td>\n",
       "      <td>20.00</td>\n",
       "      <td>445.30</td>\n",
       "      <td>9999</td>\n",
       "      <td>1</td>\n",
       "      <td>0.0</td>\n",
       "      <td>0.0</td>\n",
       "      <td>0.0</td>\n",
       "      <td>0.0</td>\n",
       "      <td>0.0</td>\n",
       "      <td>...</td>\n",
       "      <td>1</td>\n",
       "      <td>0</td>\n",
       "      <td>1</td>\n",
       "      <td>0</td>\n",
       "      <td>1</td>\n",
       "      <td>0</td>\n",
       "      <td>1</td>\n",
       "      <td>1</td>\n",
       "      <td>0</td>\n",
       "      <td>0</td>\n",
       "    </tr>\n",
       "    <tr>\n",
       "      <th>5635</th>\n",
       "      <td>61.0</td>\n",
       "      <td>99.00</td>\n",
       "      <td>5969.30</td>\n",
       "      <td>9999</td>\n",
       "      <td>1</td>\n",
       "      <td>1.0</td>\n",
       "      <td>0.0</td>\n",
       "      <td>1.0</td>\n",
       "      <td>0.0</td>\n",
       "      <td>0.0</td>\n",
       "      <td>...</td>\n",
       "      <td>0</td>\n",
       "      <td>1</td>\n",
       "      <td>0</td>\n",
       "      <td>1</td>\n",
       "      <td>1</td>\n",
       "      <td>0</td>\n",
       "      <td>0</td>\n",
       "      <td>0</td>\n",
       "      <td>1</td>\n",
       "      <td>0</td>\n",
       "    </tr>\n",
       "    <tr>\n",
       "      <th>5636</th>\n",
       "      <td>36.0</td>\n",
       "      <td>84.75</td>\n",
       "      <td>3050.15</td>\n",
       "      <td>9999</td>\n",
       "      <td>1</td>\n",
       "      <td>1.0</td>\n",
       "      <td>0.0</td>\n",
       "      <td>0.0</td>\n",
       "      <td>0.0</td>\n",
       "      <td>0.0</td>\n",
       "      <td>...</td>\n",
       "      <td>0</td>\n",
       "      <td>0</td>\n",
       "      <td>0</td>\n",
       "      <td>1</td>\n",
       "      <td>0</td>\n",
       "      <td>0</td>\n",
       "      <td>1</td>\n",
       "      <td>0</td>\n",
       "      <td>1</td>\n",
       "      <td>0</td>\n",
       "    </tr>\n",
       "    <tr>\n",
       "      <th>5637</th>\n",
       "      <td>61.0</td>\n",
       "      <td>61.45</td>\n",
       "      <td>3751.15</td>\n",
       "      <td>9999</td>\n",
       "      <td>1</td>\n",
       "      <td>1.0</td>\n",
       "      <td>0.0</td>\n",
       "      <td>1.0</td>\n",
       "      <td>1.0</td>\n",
       "      <td>1.0</td>\n",
       "      <td>...</td>\n",
       "      <td>0</td>\n",
       "      <td>1</td>\n",
       "      <td>0</td>\n",
       "      <td>1</td>\n",
       "      <td>0</td>\n",
       "      <td>1</td>\n",
       "      <td>1</td>\n",
       "      <td>0</td>\n",
       "      <td>0</td>\n",
       "      <td>0</td>\n",
       "    </tr>\n",
       "    <tr>\n",
       "      <th>5638</th>\n",
       "      <td>47.0</td>\n",
       "      <td>20.55</td>\n",
       "      <td>945.70</td>\n",
       "      <td>9999</td>\n",
       "      <td>1</td>\n",
       "      <td>0.0</td>\n",
       "      <td>0.0</td>\n",
       "      <td>0.0</td>\n",
       "      <td>0.0</td>\n",
       "      <td>0.0</td>\n",
       "      <td>...</td>\n",
       "      <td>1</td>\n",
       "      <td>0</td>\n",
       "      <td>1</td>\n",
       "      <td>0</td>\n",
       "      <td>0</td>\n",
       "      <td>1</td>\n",
       "      <td>1</td>\n",
       "      <td>0</td>\n",
       "      <td>0</td>\n",
       "      <td>1</td>\n",
       "    </tr>\n",
       "  </tbody>\n",
       "</table>\n",
       "<p>5 rows × 40 columns</p>\n",
       "</div>"
      ],
      "text/plain": [
       "      tenure  MonthlyCharges  TotalCharges  Churn  test  InternetService2  \\\n",
       "5634    23.0           20.00        445.30   9999     1               0.0   \n",
       "5635    61.0           99.00       5969.30   9999     1               1.0   \n",
       "5636    36.0           84.75       3050.15   9999     1               1.0   \n",
       "5637    61.0           61.45       3751.15   9999     1               1.0   \n",
       "5638    47.0           20.55        945.70   9999     1               0.0   \n",
       "\n",
       "      OnlineSecurity2  OnlineBackup2  DeviceProtection2  TechSupport2  ...  \\\n",
       "5634              0.0            0.0                0.0           0.0  ...   \n",
       "5635              0.0            1.0                0.0           0.0  ...   \n",
       "5636              0.0            0.0                0.0           0.0  ...   \n",
       "5637              0.0            1.0                1.0           1.0  ...   \n",
       "5638              0.0            0.0                0.0           0.0  ...   \n",
       "\n",
       "      StreamingTV_No internet service  StreamingTV_Yes  \\\n",
       "5634                                1                0   \n",
       "5635                                0                1   \n",
       "5636                                0                0   \n",
       "5637                                0                1   \n",
       "5638                                1                0   \n",
       "\n",
       "      StreamingMovies_No internet service  StreamingMovies_Yes  \\\n",
       "5634                                    1                    0   \n",
       "5635                                    0                    1   \n",
       "5636                                    0                    1   \n",
       "5637                                    0                    1   \n",
       "5638                                    1                    0   \n",
       "\n",
       "      Contract_One year  Contract_Two year  PaperlessBilling_Yes  \\\n",
       "5634                  1                  0                     1   \n",
       "5635                  1                  0                     0   \n",
       "5636                  0                  0                     1   \n",
       "5637                  0                  1                     1   \n",
       "5638                  0                  1                     1   \n",
       "\n",
       "      PaymentMethod_Credit card (automatic)  PaymentMethod_Electronic check  \\\n",
       "5634                                      1                               0   \n",
       "5635                                      0                               1   \n",
       "5636                                      0                               1   \n",
       "5637                                      0                               0   \n",
       "5638                                      0                               0   \n",
       "\n",
       "      PaymentMethod_Mailed check  \n",
       "5634                           0  \n",
       "5635                           0  \n",
       "5636                           0  \n",
       "5637                           0  \n",
       "5638                           1  \n",
       "\n",
       "[5 rows x 40 columns]"
      ]
     },
     "execution_count": 241,
     "metadata": {},
     "output_type": "execute_result"
    }
   ],
   "source": [
    "df_desafio.head()"
   ]
  },
  {
   "cell_type": "code",
   "execution_count": 242,
   "metadata": {},
   "outputs": [
    {
     "data": {
      "text/plain": [
       "(1409, 40)"
      ]
     },
     "execution_count": 242,
     "metadata": {},
     "output_type": "execute_result"
    }
   ],
   "source": [
    "df_desafio.shape"
   ]
  },
  {
   "cell_type": "code",
   "execution_count": 243,
   "metadata": {},
   "outputs": [
    {
     "data": {
      "text/plain": [
       "tenure                                   float64\n",
       "MonthlyCharges                           float64\n",
       "TotalCharges                             float64\n",
       "Churn                                      int64\n",
       "test                                       int64\n",
       "InternetService2                         float64\n",
       "OnlineSecurity2                          float64\n",
       "OnlineBackup2                            float64\n",
       "DeviceProtection2                        float64\n",
       "TechSupport2                             float64\n",
       "StreamingTV2                             float64\n",
       "StreamingMovies2                         float64\n",
       "Produtos                                 float64\n",
       "gender_Male                                uint8\n",
       "SeniorCitizen_1                            uint8\n",
       "Partner_Yes                                uint8\n",
       "Dependents_No                              uint8\n",
       "Dependents_Yes                             uint8\n",
       "PhoneService_1.0                           uint8\n",
       "MultipleLines_1.0                          uint8\n",
       "InternetService_Fiber optic                uint8\n",
       "InternetService_No                         uint8\n",
       "OnlineSecurity_No internet service         uint8\n",
       "OnlineSecurity_Yes                         uint8\n",
       "OnlineBackup_No internet service           uint8\n",
       "OnlineBackup_Yes                           uint8\n",
       "DeviceProtection_No internet service       uint8\n",
       "DeviceProtection_Yes                       uint8\n",
       "TechSupport_No internet service            uint8\n",
       "TechSupport_Yes                            uint8\n",
       "StreamingTV_No internet service            uint8\n",
       "StreamingTV_Yes                            uint8\n",
       "StreamingMovies_No internet service        uint8\n",
       "StreamingMovies_Yes                        uint8\n",
       "Contract_One year                          uint8\n",
       "Contract_Two year                          uint8\n",
       "PaperlessBilling_Yes                       uint8\n",
       "PaymentMethod_Credit card (automatic)      uint8\n",
       "PaymentMethod_Electronic check             uint8\n",
       "PaymentMethod_Mailed check                 uint8\n",
       "dtype: object"
      ]
     },
     "execution_count": 243,
     "metadata": {},
     "output_type": "execute_result"
    }
   ],
   "source": [
    "df_desafio.dtypes"
   ]
  },
  {
   "cell_type": "code",
   "execution_count": 244,
   "metadata": {},
   "outputs": [
    {
     "data": {
      "text/plain": [
       "(5634, 40)"
      ]
     },
     "execution_count": 244,
     "metadata": {},
     "output_type": "execute_result"
    }
   ],
   "source": [
    "newdf.shape"
   ]
  },
  {
   "cell_type": "code",
   "execution_count": 245,
   "metadata": {
    "scrolled": true
   },
   "outputs": [
    {
     "data": {
      "text/html": [
       "<div>\n",
       "<style scoped>\n",
       "    .dataframe tbody tr th:only-of-type {\n",
       "        vertical-align: middle;\n",
       "    }\n",
       "\n",
       "    .dataframe tbody tr th {\n",
       "        vertical-align: top;\n",
       "    }\n",
       "\n",
       "    .dataframe thead th {\n",
       "        text-align: right;\n",
       "    }\n",
       "</style>\n",
       "<table border=\"1\" class=\"dataframe\">\n",
       "  <thead>\n",
       "    <tr style=\"text-align: right;\">\n",
       "      <th></th>\n",
       "      <th>tenure</th>\n",
       "      <th>MonthlyCharges</th>\n",
       "      <th>TotalCharges</th>\n",
       "      <th>Churn</th>\n",
       "      <th>test</th>\n",
       "      <th>InternetService2</th>\n",
       "      <th>OnlineSecurity2</th>\n",
       "      <th>OnlineBackup2</th>\n",
       "      <th>DeviceProtection2</th>\n",
       "      <th>TechSupport2</th>\n",
       "      <th>...</th>\n",
       "      <th>StreamingTV_No internet service</th>\n",
       "      <th>StreamingTV_Yes</th>\n",
       "      <th>StreamingMovies_No internet service</th>\n",
       "      <th>StreamingMovies_Yes</th>\n",
       "      <th>Contract_One year</th>\n",
       "      <th>Contract_Two year</th>\n",
       "      <th>PaperlessBilling_Yes</th>\n",
       "      <th>PaymentMethod_Credit card (automatic)</th>\n",
       "      <th>PaymentMethod_Electronic check</th>\n",
       "      <th>PaymentMethod_Mailed check</th>\n",
       "    </tr>\n",
       "  </thead>\n",
       "  <tbody>\n",
       "    <tr>\n",
       "      <th>0</th>\n",
       "      <td>56.0</td>\n",
       "      <td>45.05</td>\n",
       "      <td>2560.10</td>\n",
       "      <td>0</td>\n",
       "      <td>0</td>\n",
       "      <td>1.0</td>\n",
       "      <td>1.0</td>\n",
       "      <td>1.0</td>\n",
       "      <td>1.0</td>\n",
       "      <td>1.0</td>\n",
       "      <td>...</td>\n",
       "      <td>0</td>\n",
       "      <td>0</td>\n",
       "      <td>0</td>\n",
       "      <td>0</td>\n",
       "      <td>0</td>\n",
       "      <td>1</td>\n",
       "      <td>0</td>\n",
       "      <td>0</td>\n",
       "      <td>1</td>\n",
       "      <td>0</td>\n",
       "    </tr>\n",
       "    <tr>\n",
       "      <th>1</th>\n",
       "      <td>32.0</td>\n",
       "      <td>19.65</td>\n",
       "      <td>332.65</td>\n",
       "      <td>0</td>\n",
       "      <td>0</td>\n",
       "      <td>0.0</td>\n",
       "      <td>0.0</td>\n",
       "      <td>0.0</td>\n",
       "      <td>0.0</td>\n",
       "      <td>0.0</td>\n",
       "      <td>...</td>\n",
       "      <td>1</td>\n",
       "      <td>0</td>\n",
       "      <td>1</td>\n",
       "      <td>0</td>\n",
       "      <td>1</td>\n",
       "      <td>0</td>\n",
       "      <td>0</td>\n",
       "      <td>0</td>\n",
       "      <td>0</td>\n",
       "      <td>1</td>\n",
       "    </tr>\n",
       "    <tr>\n",
       "      <th>2</th>\n",
       "      <td>60.0</td>\n",
       "      <td>110.80</td>\n",
       "      <td>6640.70</td>\n",
       "      <td>0</td>\n",
       "      <td>0</td>\n",
       "      <td>1.0</td>\n",
       "      <td>0.0</td>\n",
       "      <td>1.0</td>\n",
       "      <td>1.0</td>\n",
       "      <td>1.0</td>\n",
       "      <td>...</td>\n",
       "      <td>0</td>\n",
       "      <td>1</td>\n",
       "      <td>0</td>\n",
       "      <td>1</td>\n",
       "      <td>0</td>\n",
       "      <td>1</td>\n",
       "      <td>1</td>\n",
       "      <td>1</td>\n",
       "      <td>0</td>\n",
       "      <td>0</td>\n",
       "    </tr>\n",
       "    <tr>\n",
       "      <th>3</th>\n",
       "      <td>37.0</td>\n",
       "      <td>101.90</td>\n",
       "      <td>3545.35</td>\n",
       "      <td>1</td>\n",
       "      <td>0</td>\n",
       "      <td>1.0</td>\n",
       "      <td>0.0</td>\n",
       "      <td>1.0</td>\n",
       "      <td>1.0</td>\n",
       "      <td>0.0</td>\n",
       "      <td>...</td>\n",
       "      <td>0</td>\n",
       "      <td>1</td>\n",
       "      <td>0</td>\n",
       "      <td>1</td>\n",
       "      <td>0</td>\n",
       "      <td>0</td>\n",
       "      <td>1</td>\n",
       "      <td>0</td>\n",
       "      <td>0</td>\n",
       "      <td>0</td>\n",
       "    </tr>\n",
       "    <tr>\n",
       "      <th>4</th>\n",
       "      <td>29.0</td>\n",
       "      <td>70.75</td>\n",
       "      <td>1974.80</td>\n",
       "      <td>1</td>\n",
       "      <td>0</td>\n",
       "      <td>1.0</td>\n",
       "      <td>0.0</td>\n",
       "      <td>0.0</td>\n",
       "      <td>0.0</td>\n",
       "      <td>0.0</td>\n",
       "      <td>...</td>\n",
       "      <td>0</td>\n",
       "      <td>0</td>\n",
       "      <td>0</td>\n",
       "      <td>0</td>\n",
       "      <td>0</td>\n",
       "      <td>0</td>\n",
       "      <td>1</td>\n",
       "      <td>0</td>\n",
       "      <td>1</td>\n",
       "      <td>0</td>\n",
       "    </tr>\n",
       "  </tbody>\n",
       "</table>\n",
       "<p>5 rows × 40 columns</p>\n",
       "</div>"
      ],
      "text/plain": [
       "   tenure  MonthlyCharges  TotalCharges  Churn  test  InternetService2  \\\n",
       "0    56.0           45.05       2560.10      0     0               1.0   \n",
       "1    32.0           19.65        332.65      0     0               0.0   \n",
       "2    60.0          110.80       6640.70      0     0               1.0   \n",
       "3    37.0          101.90       3545.35      1     0               1.0   \n",
       "4    29.0           70.75       1974.80      1     0               1.0   \n",
       "\n",
       "   OnlineSecurity2  OnlineBackup2  DeviceProtection2  TechSupport2  ...  \\\n",
       "0              1.0            1.0                1.0           1.0  ...   \n",
       "1              0.0            0.0                0.0           0.0  ...   \n",
       "2              0.0            1.0                1.0           1.0  ...   \n",
       "3              0.0            1.0                1.0           0.0  ...   \n",
       "4              0.0            0.0                0.0           0.0  ...   \n",
       "\n",
       "   StreamingTV_No internet service  StreamingTV_Yes  \\\n",
       "0                                0                0   \n",
       "1                                1                0   \n",
       "2                                0                1   \n",
       "3                                0                1   \n",
       "4                                0                0   \n",
       "\n",
       "   StreamingMovies_No internet service  StreamingMovies_Yes  \\\n",
       "0                                    0                    0   \n",
       "1                                    1                    0   \n",
       "2                                    0                    1   \n",
       "3                                    0                    1   \n",
       "4                                    0                    0   \n",
       "\n",
       "   Contract_One year  Contract_Two year  PaperlessBilling_Yes  \\\n",
       "0                  0                  1                     0   \n",
       "1                  1                  0                     0   \n",
       "2                  0                  1                     1   \n",
       "3                  0                  0                     1   \n",
       "4                  0                  0                     1   \n",
       "\n",
       "   PaymentMethod_Credit card (automatic)  PaymentMethod_Electronic check  \\\n",
       "0                                      0                               1   \n",
       "1                                      0                               0   \n",
       "2                                      1                               0   \n",
       "3                                      0                               0   \n",
       "4                                      0                               1   \n",
       "\n",
       "   PaymentMethod_Mailed check  \n",
       "0                           0  \n",
       "1                           1  \n",
       "2                           0  \n",
       "3                           0  \n",
       "4                           0  \n",
       "\n",
       "[5 rows x 40 columns]"
      ]
     },
     "execution_count": 245,
     "metadata": {},
     "output_type": "execute_result"
    }
   ],
   "source": [
    "newdf.head()"
   ]
  },
  {
   "cell_type": "code",
   "execution_count": 246,
   "metadata": {},
   "outputs": [
    {
     "data": {
      "text/plain": [
       "tenure                                   float64\n",
       "MonthlyCharges                           float64\n",
       "TotalCharges                             float64\n",
       "Churn                                      int64\n",
       "test                                       int64\n",
       "InternetService2                         float64\n",
       "OnlineSecurity2                          float64\n",
       "OnlineBackup2                            float64\n",
       "DeviceProtection2                        float64\n",
       "TechSupport2                             float64\n",
       "StreamingTV2                             float64\n",
       "StreamingMovies2                         float64\n",
       "Produtos                                 float64\n",
       "gender_Male                                uint8\n",
       "SeniorCitizen_1                            uint8\n",
       "Partner_Yes                                uint8\n",
       "Dependents_No                              uint8\n",
       "Dependents_Yes                             uint8\n",
       "PhoneService_1.0                           uint8\n",
       "MultipleLines_1.0                          uint8\n",
       "InternetService_Fiber optic                uint8\n",
       "InternetService_No                         uint8\n",
       "OnlineSecurity_No internet service         uint8\n",
       "OnlineSecurity_Yes                         uint8\n",
       "OnlineBackup_No internet service           uint8\n",
       "OnlineBackup_Yes                           uint8\n",
       "DeviceProtection_No internet service       uint8\n",
       "DeviceProtection_Yes                       uint8\n",
       "TechSupport_No internet service            uint8\n",
       "TechSupport_Yes                            uint8\n",
       "StreamingTV_No internet service            uint8\n",
       "StreamingTV_Yes                            uint8\n",
       "StreamingMovies_No internet service        uint8\n",
       "StreamingMovies_Yes                        uint8\n",
       "Contract_One year                          uint8\n",
       "Contract_Two year                          uint8\n",
       "PaperlessBilling_Yes                       uint8\n",
       "PaymentMethod_Credit card (automatic)      uint8\n",
       "PaymentMethod_Electronic check             uint8\n",
       "PaymentMethod_Mailed check                 uint8\n",
       "dtype: object"
      ]
     },
     "execution_count": 246,
     "metadata": {},
     "output_type": "execute_result"
    }
   ],
   "source": [
    "newdf.dtypes"
   ]
  },
  {
   "cell_type": "markdown",
   "metadata": {},
   "source": [
    "### TIREI test e churn"
   ]
  },
  {
   "cell_type": "code",
   "execution_count": 247,
   "metadata": {},
   "outputs": [],
   "source": [
    "#tirei a taxa carga mes total pq tinha numeros infinitos e mtos outliers\n",
    "X = newdf.drop(['Churn']+['test']+ ['InternetService2']+ ['OnlineSecurity2'] + ['OnlineBackup2'] + ['DeviceProtection2'] + ['TechSupport2'] + ['StreamingTV2'] + ['StreamingMovies2'] , axis=1)\n",
    "y = newdf['Churn']"
   ]
  },
  {
   "cell_type": "code",
   "execution_count": 248,
   "metadata": {},
   "outputs": [
    {
     "data": {
      "text/plain": [
       "tenure                                   float64\n",
       "MonthlyCharges                           float64\n",
       "TotalCharges                             float64\n",
       "Produtos                                 float64\n",
       "gender_Male                                uint8\n",
       "SeniorCitizen_1                            uint8\n",
       "Partner_Yes                                uint8\n",
       "Dependents_No                              uint8\n",
       "Dependents_Yes                             uint8\n",
       "PhoneService_1.0                           uint8\n",
       "MultipleLines_1.0                          uint8\n",
       "InternetService_Fiber optic                uint8\n",
       "InternetService_No                         uint8\n",
       "OnlineSecurity_No internet service         uint8\n",
       "OnlineSecurity_Yes                         uint8\n",
       "OnlineBackup_No internet service           uint8\n",
       "OnlineBackup_Yes                           uint8\n",
       "DeviceProtection_No internet service       uint8\n",
       "DeviceProtection_Yes                       uint8\n",
       "TechSupport_No internet service            uint8\n",
       "TechSupport_Yes                            uint8\n",
       "StreamingTV_No internet service            uint8\n",
       "StreamingTV_Yes                            uint8\n",
       "StreamingMovies_No internet service        uint8\n",
       "StreamingMovies_Yes                        uint8\n",
       "Contract_One year                          uint8\n",
       "Contract_Two year                          uint8\n",
       "PaperlessBilling_Yes                       uint8\n",
       "PaymentMethod_Credit card (automatic)      uint8\n",
       "PaymentMethod_Electronic check             uint8\n",
       "PaymentMethod_Mailed check                 uint8\n",
       "dtype: object"
      ]
     },
     "execution_count": 248,
     "metadata": {},
     "output_type": "execute_result"
    }
   ],
   "source": [
    "X.dtypes"
   ]
  },
  {
   "cell_type": "code",
   "execution_count": 249,
   "metadata": {},
   "outputs": [
    {
     "data": {
      "text/plain": [
       "dtype('int64')"
      ]
     },
     "execution_count": 249,
     "metadata": {},
     "output_type": "execute_result"
    }
   ],
   "source": [
    "y.dtypes"
   ]
  },
  {
   "cell_type": "code",
   "execution_count": 250,
   "metadata": {},
   "outputs": [],
   "source": [
    "from sklearn.model_selection import train_test_split\n",
    "\n",
    "X_train, X_test, y_train, y_test = train_test_split(X, y, test_size=0.2, random_state=42)"
   ]
  },
  {
   "cell_type": "code",
   "execution_count": 251,
   "metadata": {
    "scrolled": false
   },
   "outputs": [
    {
     "data": {
      "text/plain": [
       "tenure                                   float64\n",
       "MonthlyCharges                           float64\n",
       "TotalCharges                             float64\n",
       "Produtos                                 float64\n",
       "gender_Male                                uint8\n",
       "SeniorCitizen_1                            uint8\n",
       "Partner_Yes                                uint8\n",
       "Dependents_No                              uint8\n",
       "Dependents_Yes                             uint8\n",
       "PhoneService_1.0                           uint8\n",
       "MultipleLines_1.0                          uint8\n",
       "InternetService_Fiber optic                uint8\n",
       "InternetService_No                         uint8\n",
       "OnlineSecurity_No internet service         uint8\n",
       "OnlineSecurity_Yes                         uint8\n",
       "OnlineBackup_No internet service           uint8\n",
       "OnlineBackup_Yes                           uint8\n",
       "DeviceProtection_No internet service       uint8\n",
       "DeviceProtection_Yes                       uint8\n",
       "TechSupport_No internet service            uint8\n",
       "TechSupport_Yes                            uint8\n",
       "StreamingTV_No internet service            uint8\n",
       "StreamingTV_Yes                            uint8\n",
       "StreamingMovies_No internet service        uint8\n",
       "StreamingMovies_Yes                        uint8\n",
       "Contract_One year                          uint8\n",
       "Contract_Two year                          uint8\n",
       "PaperlessBilling_Yes                       uint8\n",
       "PaymentMethod_Credit card (automatic)      uint8\n",
       "PaymentMethod_Electronic check             uint8\n",
       "PaymentMethod_Mailed check                 uint8\n",
       "dtype: object"
      ]
     },
     "execution_count": 251,
     "metadata": {},
     "output_type": "execute_result"
    }
   ],
   "source": [
    "X_train.dtypes"
   ]
  },
  {
   "cell_type": "code",
   "execution_count": 252,
   "metadata": {},
   "outputs": [
    {
     "data": {
      "text/plain": [
       "(4507,)"
      ]
     },
     "execution_count": 252,
     "metadata": {},
     "output_type": "execute_result"
    }
   ],
   "source": [
    "y_train.shape"
   ]
  },
  {
   "cell_type": "code",
   "execution_count": 253,
   "metadata": {},
   "outputs": [
    {
     "data": {
      "text/plain": [
       "(4507, 31)"
      ]
     },
     "execution_count": 253,
     "metadata": {},
     "output_type": "execute_result"
    }
   ],
   "source": [
    "X_train.shape"
   ]
  },
  {
   "cell_type": "markdown",
   "metadata": {},
   "source": [
    "### Gradient Boost com todas as vars"
   ]
  },
  {
   "cell_type": "code",
   "execution_count": 254,
   "metadata": {
    "scrolled": true
   },
   "outputs": [
    {
     "data": {
      "text/plain": [
       "tenure                                   0\n",
       "MonthlyCharges                           0\n",
       "TotalCharges                             0\n",
       "Produtos                                 0\n",
       "gender_Male                              0\n",
       "SeniorCitizen_1                          0\n",
       "Partner_Yes                              0\n",
       "Dependents_No                            0\n",
       "Dependents_Yes                           0\n",
       "PhoneService_1.0                         0\n",
       "MultipleLines_1.0                        0\n",
       "InternetService_Fiber optic              0\n",
       "InternetService_No                       0\n",
       "OnlineSecurity_No internet service       0\n",
       "OnlineSecurity_Yes                       0\n",
       "OnlineBackup_No internet service         0\n",
       "OnlineBackup_Yes                         0\n",
       "DeviceProtection_No internet service     0\n",
       "DeviceProtection_Yes                     0\n",
       "TechSupport_No internet service          0\n",
       "TechSupport_Yes                          0\n",
       "StreamingTV_No internet service          0\n",
       "StreamingTV_Yes                          0\n",
       "StreamingMovies_No internet service      0\n",
       "StreamingMovies_Yes                      0\n",
       "Contract_One year                        0\n",
       "Contract_Two year                        0\n",
       "PaperlessBilling_Yes                     0\n",
       "PaymentMethod_Credit card (automatic)    0\n",
       "PaymentMethod_Electronic check           0\n",
       "PaymentMethod_Mailed check               0\n",
       "dtype: int64"
      ]
     },
     "execution_count": 254,
     "metadata": {},
     "output_type": "execute_result"
    }
   ],
   "source": [
    "X_train.isnull().sum()"
   ]
  },
  {
   "cell_type": "code",
   "execution_count": 255,
   "metadata": {},
   "outputs": [
    {
     "data": {
      "text/plain": [
       "0"
      ]
     },
     "execution_count": 255,
     "metadata": {},
     "output_type": "execute_result"
    }
   ],
   "source": [
    "y_train.isnull().sum()"
   ]
  },
  {
   "cell_type": "code",
   "execution_count": 256,
   "metadata": {},
   "outputs": [
    {
     "data": {
      "text/plain": [
       "GradientBoostingClassifier(ccp_alpha=0.0, criterion='friedman_mse', init=None,\n",
       "                           learning_rate=0.1, loss='deviance', max_depth=3,\n",
       "                           max_features=None, max_leaf_nodes=None,\n",
       "                           min_impurity_decrease=0.0, min_impurity_split=None,\n",
       "                           min_samples_leaf=1, min_samples_split=2,\n",
       "                           min_weight_fraction_leaf=0.0, n_estimators=100,\n",
       "                           n_iter_no_change=None, presort='deprecated',\n",
       "                           random_state=None, subsample=1.0, tol=0.0001,\n",
       "                           validation_fraction=0.1, verbose=0,\n",
       "                           warm_start=False)"
      ]
     },
     "execution_count": 256,
     "metadata": {},
     "output_type": "execute_result"
    }
   ],
   "source": [
    "from sklearn.ensemble import GradientBoostingClassifier\n",
    "\n",
    "gb = GradientBoostingClassifier()\n",
    "gb.fit(X_train, y_train)"
   ]
  },
  {
   "cell_type": "markdown",
   "metadata": {},
   "source": [
    "### Acurácia do Grandient Boost"
   ]
  },
  {
   "cell_type": "code",
   "execution_count": 257,
   "metadata": {},
   "outputs": [
    {
     "data": {
      "text/plain": [
       "0.8127772848269743"
      ]
     },
     "execution_count": 257,
     "metadata": {},
     "output_type": "execute_result"
    }
   ],
   "source": [
    "gb.score(X_test, y_test) #acurácia do modelo"
   ]
  },
  {
   "cell_type": "code",
   "execution_count": 258,
   "metadata": {},
   "outputs": [
    {
     "data": {
      "text/plain": [
       "(4507, 31)"
      ]
     },
     "execution_count": 258,
     "metadata": {},
     "output_type": "execute_result"
    }
   ],
   "source": [
    "X_train.shape"
   ]
  },
  {
   "cell_type": "markdown",
   "metadata": {},
   "source": [
    "### Logistic regression com todas as vars"
   ]
  },
  {
   "cell_type": "code",
   "execution_count": 259,
   "metadata": {},
   "outputs": [],
   "source": [
    "from sklearn.linear_model import LogisticRegression"
   ]
  },
  {
   "cell_type": "code",
   "execution_count": 260,
   "metadata": {
    "scrolled": true
   },
   "outputs": [
    {
     "data": {
      "text/plain": [
       "LogisticRegression(C=1, class_weight=None, dual=False, fit_intercept=True,\n",
       "                   intercept_scaling=1, l1_ratio=None, max_iter=100,\n",
       "                   multi_class='auto', n_jobs=None, penalty='l2',\n",
       "                   random_state=None, solver='lbfgs', tol=0.0001, verbose=0,\n",
       "                   warm_start=False)"
      ]
     },
     "execution_count": 260,
     "metadata": {},
     "output_type": "execute_result"
    }
   ],
   "source": [
    "LR = LogisticRegression(C = 1)\n",
    "\n",
    "LR.fit(X_train,y_train)\n",
    "\n"
   ]
  },
  {
   "cell_type": "code",
   "execution_count": 261,
   "metadata": {},
   "outputs": [
    {
     "data": {
      "text/plain": [
       "0.8080763257155535"
      ]
     },
     "execution_count": 261,
     "metadata": {},
     "output_type": "execute_result"
    }
   ],
   "source": [
    "LR.score(X_train, y_train) # Acuracia ((VP + VN) / TOTAL ) do modelo na base de dados\n"
   ]
  },
  {
   "cell_type": "code",
   "execution_count": 262,
   "metadata": {},
   "outputs": [
    {
     "data": {
      "text/plain": [
       "(4507, 31)"
      ]
     },
     "execution_count": 262,
     "metadata": {},
     "output_type": "execute_result"
    }
   ],
   "source": [
    "X_train.shape"
   ]
  },
  {
   "cell_type": "markdown",
   "metadata": {},
   "source": [
    "### Acurácia do Logistic Regression com todas as vars"
   ]
  },
  {
   "cell_type": "code",
   "execution_count": 263,
   "metadata": {},
   "outputs": [
    {
     "data": {
      "text/plain": [
       "0.8003549245785271"
      ]
     },
     "execution_count": 263,
     "metadata": {},
     "output_type": "execute_result"
    }
   ],
   "source": [
    "#acurácia na teste\n",
    "\n",
    "LR.score(X_test, y_test) "
   ]
  },
  {
   "cell_type": "code",
   "execution_count": 264,
   "metadata": {},
   "outputs": [
    {
     "data": {
      "text/plain": [
       "array([[750,  89],\n",
       "       [136, 152]], dtype=int64)"
      ]
     },
     "execution_count": 264,
     "metadata": {},
     "output_type": "execute_result"
    }
   ],
   "source": [
    "from sklearn.metrics import classification_report, confusion_matrix\n",
    "confusion_matrix(y_test, LR.predict(X_test))"
   ]
  },
  {
   "cell_type": "code",
   "execution_count": 265,
   "metadata": {},
   "outputs": [
    {
     "data": {
      "text/plain": [
       "array([[750,  89],\n",
       "       [136, 152]], dtype=int64)"
      ]
     },
     "execution_count": 265,
     "metadata": {},
     "output_type": "execute_result"
    }
   ],
   "source": [
    "from sklearn.metrics import classification_report, confusion_matrix\n",
    "confusion_matrix(y_test, LR.predict(X_test))"
   ]
  },
  {
   "cell_type": "code",
   "execution_count": 266,
   "metadata": {},
   "outputs": [
    {
     "data": {
      "text/plain": [
       "288"
      ]
     },
     "execution_count": 266,
     "metadata": {},
     "output_type": "execute_result"
    }
   ],
   "source": [
    "y_test.sum()"
   ]
  },
  {
   "cell_type": "code",
   "execution_count": 267,
   "metadata": {},
   "outputs": [
    {
     "data": {
      "text/plain": [
       "0.5277777777777778"
      ]
     },
     "execution_count": 267,
     "metadata": {},
     "output_type": "execute_result"
    }
   ],
   "source": [
    "152/(136+152)"
   ]
  },
  {
   "cell_type": "code",
   "execution_count": 268,
   "metadata": {},
   "outputs": [
    {
     "data": {
      "text/plain": [
       "(4507, 31)"
      ]
     },
     "execution_count": 268,
     "metadata": {},
     "output_type": "execute_result"
    }
   ],
   "source": [
    "X_train.shape"
   ]
  },
  {
   "cell_type": "markdown",
   "metadata": {},
   "source": [
    "### Random forest com todas as vars"
   ]
  },
  {
   "cell_type": "code",
   "execution_count": 269,
   "metadata": {},
   "outputs": [
    {
     "data": {
      "text/plain": [
       "RandomForestClassifier(bootstrap=True, ccp_alpha=0.0, class_weight=None,\n",
       "                       criterion='gini', max_depth=None, max_features='auto',\n",
       "                       max_leaf_nodes=None, max_samples=None,\n",
       "                       min_impurity_decrease=0.0, min_impurity_split=None,\n",
       "                       min_samples_leaf=1, min_samples_split=2,\n",
       "                       min_weight_fraction_leaf=0.0, n_estimators=40,\n",
       "                       n_jobs=None, oob_score=False, random_state=None,\n",
       "                       verbose=0, warm_start=False)"
      ]
     },
     "execution_count": 269,
     "metadata": {},
     "output_type": "execute_result"
    }
   ],
   "source": [
    "from sklearn.ensemble import RandomForestClassifier\n",
    "model = RandomForestClassifier(n_estimators = 40)\n",
    "model.fit(X_train, y_train)\n"
   ]
  },
  {
   "cell_type": "code",
   "execution_count": 270,
   "metadata": {},
   "outputs": [
    {
     "data": {
      "text/plain": [
       "0.7985803016858918"
      ]
     },
     "execution_count": 270,
     "metadata": {},
     "output_type": "execute_result"
    }
   ],
   "source": [
    "model.score(X_test, y_test)"
   ]
  },
  {
   "cell_type": "code",
   "execution_count": 271,
   "metadata": {},
   "outputs": [
    {
     "data": {
      "text/plain": [
       "(4507, 31)"
      ]
     },
     "execution_count": 271,
     "metadata": {},
     "output_type": "execute_result"
    }
   ],
   "source": [
    "X_train.shape"
   ]
  },
  {
   "cell_type": "markdown",
   "metadata": {},
   "source": [
    "### Feature importance"
   ]
  },
  {
   "cell_type": "code",
   "execution_count": 81,
   "metadata": {},
   "outputs": [],
   "source": [
    "import matplotlib.pyplot as plt\n",
    "\n",
    "from sklearn.datasets import make_classification\n",
    "from sklearn.ensemble import ExtraTreesClassifier\n",
    "\n",
    "# Build a forest and compute the impurity-based feature importances\n",
    "forest = ExtraTreesClassifier(n_estimators=250,\n",
    "                              random_state=0)\n",
    "\n",
    "forest.fit(X_train, y_train)\n",
    "importances = forest.feature_importances_\n",
    "std = np.std([tree.feature_importances_ for tree in forest.estimators_],\n",
    "             axis=0)\n",
    "indices = np.argsort(importances)[::-1]\n",
    "\n"
   ]
  },
  {
   "cell_type": "code",
   "execution_count": 82,
   "metadata": {},
   "outputs": [
    {
     "name": "stdout",
     "output_type": "stream",
     "text": [
      "Feature ranking:\n",
      "1. feature 2 (0.144661)\n",
      "2. feature 0 (0.138801)\n",
      "3. feature 1 (0.118610)\n",
      "4. feature 11 (0.047840)\n",
      "5. feature 26 (0.041202)\n",
      "6. feature 3 (0.039533)\n",
      "7. feature 29 (0.038913)\n",
      "8. feature 25 (0.033489)\n",
      "9. feature 14 (0.033318)\n",
      "10. feature 27 (0.031718)\n",
      "11. feature 20 (0.030389)\n",
      "12. feature 5 (0.029507)\n",
      "13. feature 16 (0.027669)\n",
      "14. feature 10 (0.025131)\n",
      "15. feature 4 (0.024898)\n",
      "16. feature 24 (0.024663)\n",
      "17. feature 18 (0.024553)\n",
      "18. feature 22 (0.024305)\n",
      "19. feature 6 (0.018642)\n",
      "20. feature 28 (0.018329)\n",
      "21. feature 7 (0.016926)\n",
      "22. feature 30 (0.015633)\n",
      "23. feature 19 (0.009162)\n",
      "24. feature 17 (0.007560)\n",
      "25. feature 13 (0.005885)\n",
      "26. feature 8 (0.005128)\n",
      "27. feature 9 (0.005089)\n",
      "28. feature 15 (0.005065)\n",
      "29. feature 23 (0.004866)\n",
      "30. feature 12 (0.004509)\n",
      "31. feature 21 (0.004005)\n"
     ]
    }
   ],
   "source": [
    "# Print the feature ranking\n",
    "print(\"Feature ranking:\")\n",
    "\n",
    "for f in range(X_train.shape[1]):\n",
    "    print(\"%d. feature %d (%f)\" % (f + 1, indices[f], importances[indices[f]]))\n",
    "\n"
   ]
  },
  {
   "cell_type": "code",
   "execution_count": 83,
   "metadata": {},
   "outputs": [
    {
     "data": {
      "image/png": "[encoded data removed]",
      "text/plain": [
       "<Figure size 432x288 with 1 Axes>"
      ]
     },
     "metadata": {},
     "output_type": "display_data"
    }
   ],
   "source": [
    "#Plot the impurity-based feature importances of the forest\n",
    "plt.figure()\n",
    "plt.title(\"Feature importances\")\n",
    "plt.bar(range(X_train.shape[1]), importances[indices],\n",
    "        color=\"r\", yerr=std[indices], align=\"center\")\n",
    "plt.xticks(range(X_train.shape[1]), indices)\n",
    "plt.xlim([-1, X_train.shape[1]])\n",
    "plt.show()"
   ]
  },
  {
   "cell_type": "code",
   "execution_count": 84,
   "metadata": {},
   "outputs": [],
   "source": [
    "#!pip install xgboost"
   ]
  },
  {
   "cell_type": "code",
   "execution_count": null,
   "metadata": {},
   "outputs": [],
   "source": [
    "\n",
    "#Import de todos os possível modelos\n",
    "\n",
    "from sklearn.linear_model import LinearRegression\n",
    "from sklearn.linear_model import Lasso\n",
    "from sklearn.linear_model import Ridge\n",
    "from sklearn.ensemble import RandomForestClassifier\n",
    "from sklearn.ensemble import AdaBoostClassifier\n",
    "from sklearn.ensemble import GradientBoostingClassifier\n",
    "from xgboost import XGBRegressor"
   ]
  },
  {
   "cell_type": "markdown",
   "metadata": {},
   "source": [
    "from sklearn.feature_selection import RFE\n",
    "\n",
    "clf = XGBRegressor()\n",
    "rfe = RFE(estimator=clf, n_features_to_select=15, step=1)\n",
    "rfe = rfe.fit(X_train, y_train)\n",
    "#melhores 15 features, coerente com os numeros de correlação."
   ]
  },
  {
   "cell_type": "code",
   "execution_count": null,
   "metadata": {
    "scrolled": true
   },
   "outputs": [],
   "source": [
    "#print('Best 15 Features of Train dataset : ', X_train.columns[rfe.support_])"
   ]
  },
  {
   "cell_type": "markdown",
   "metadata": {},
   "source": [
    "features_15 = ['tenure', 'MonthlyCharges', 'TotalCharges', 'SeniorCitizen_1',\n",
    "       'PhoneService_Yes', 'MultipleLines_Yes', 'InternetService_Fiber optic',\n",
    "       'InternetService_No', 'OnlineSecurity_Yes', 'TechSupport_Yes',\n",
    "       'StreamingTV_Yes', 'StreamingMovies_Yes', 'Contract_One year',\n",
    "       'Contract_Two year', 'PaymentMethod_Electronic check']"
   ]
  },
  {
   "cell_type": "code",
   "execution_count": 83,
   "metadata": {},
   "outputs": [],
   "source": [
    "#instanciando os modelos\n",
    "random_forest = RandomForestClassifier()\n",
    "ada_boost = AdaBoostClassifier()\n",
    "gradient_boost = GradientBoostingClassifier()\n"
   ]
  },
  {
   "cell_type": "code",
   "execution_count": 81,
   "metadata": {},
   "outputs": [],
   "source": [
    "#instanciando os modelos\n",
    "#random_forest = RandomForestRegressor(n_estimators=100, max_depth = 6)\n",
    "#ada_boost = AdaBoostRegressor(n_estimators=200, learning_rate= 0.3)\n",
    "#gradient_boost = GradientBoostingRegressor(n_estimators=100, learning_rate=0.2)\n",
    "#xgb_model = XGBRegressor(max_depth = 4, learning_rate = 0.1, n_estimators = 300, objective='reg:squarederror')"
   ]
  },
  {
   "cell_type": "code",
   "execution_count": 84,
   "metadata": {
    "scrolled": true
   },
   "outputs": [
    {
     "name": "stdout",
     "output_type": "stream",
     "text": [
      "Random Forest: 0.8047914818101154\n",
      "AdaBoost: 0.7941437444543035\n",
      "gradientBoost: 0.8101153504880213\n"
     ]
    }
   ],
   "source": [
    "\n",
    "models = [random_forest, ada_boost, gradient_boost]\n",
    "labels = [ 'Random Forest', 'AdaBoost', 'gradientBoost']\n",
    "\n",
    "for label,model in zip(labels, models):\n",
    "    model.fit(X_train, y_train)\n",
    "    #print('{}: {}'.format(label, mean_squared_error(y_test, model.predict(X_test[features_15]))))\n",
    "    #print('{}: {}'.format(label, r2_score(y_test, model.predict(X_test[features_15]))))\n",
    "    print('{}: {}'.format(label, model.score(X_test, y_test)))"
   ]
  },
  {
   "cell_type": "markdown",
   "metadata": {},
   "source": [
    "### entregar com ada boost com todas variaveis"
   ]
  },
  {
   "cell_type": "code",
   "execution_count": 85,
   "metadata": {},
   "outputs": [
    {
     "data": {
      "text/plain": [
       "tenure                                   float64\n",
       "MonthlyCharges                           float64\n",
       "TotalCharges                             float64\n",
       "Churn                                      int64\n",
       "test                                       int64\n",
       "gender_Male                                uint8\n",
       "SeniorCitizen_1                            uint8\n",
       "Partner_Yes                                uint8\n",
       "Dependents_No                              uint8\n",
       "Dependents_Yes                             uint8\n",
       "PhoneService_Yes                           uint8\n",
       "MultipleLines_No phone service             uint8\n",
       "MultipleLines_Yes                          uint8\n",
       "InternetService_Fiber optic                uint8\n",
       "InternetService_No                         uint8\n",
       "OnlineSecurity_No internet service         uint8\n",
       "OnlineSecurity_Yes                         uint8\n",
       "OnlineBackup_No internet service           uint8\n",
       "OnlineBackup_Yes                           uint8\n",
       "DeviceProtection_No internet service       uint8\n",
       "DeviceProtection_Yes                       uint8\n",
       "TechSupport_No internet service            uint8\n",
       "TechSupport_Yes                            uint8\n",
       "StreamingTV_No internet service            uint8\n",
       "StreamingTV_Yes                            uint8\n",
       "StreamingMovies_No internet service        uint8\n",
       "StreamingMovies_Yes                        uint8\n",
       "Contract_One year                          uint8\n",
       "Contract_Two year                          uint8\n",
       "PaperlessBilling_Yes                       uint8\n",
       "PaymentMethod_Credit card (automatic)      uint8\n",
       "PaymentMethod_Electronic check             uint8\n",
       "PaymentMethod_Mailed check                 uint8\n",
       "dtype: object"
      ]
     },
     "execution_count": 85,
     "metadata": {},
     "output_type": "execute_result"
    }
   ],
   "source": [
    "df_desafio.dtypes #tem que tirar churn, test, taxa carga mes total "
   ]
  },
  {
   "cell_type": "code",
   "execution_count": 86,
   "metadata": {},
   "outputs": [
    {
     "data": {
      "text/plain": [
       "count    1409.0\n",
       "mean     9999.0\n",
       "std         0.0\n",
       "min      9999.0\n",
       "25%      9999.0\n",
       "50%      9999.0\n",
       "75%      9999.0\n",
       "max      9999.0\n",
       "Name: Churn, dtype: float64"
      ]
     },
     "execution_count": 86,
     "metadata": {},
     "output_type": "execute_result"
    }
   ],
   "source": [
    "df_desafio.Churn.describe()"
   ]
  },
  {
   "cell_type": "code",
   "execution_count": 87,
   "metadata": {},
   "outputs": [],
   "source": [
    "#tirando variáveis \n",
    "df_desafio = df_desafio.drop(['Churn']+['test'], axis=1)"
   ]
  },
  {
   "cell_type": "code",
   "execution_count": 88,
   "metadata": {},
   "outputs": [
    {
     "data": {
      "text/plain": [
       "tenure                                   float64\n",
       "MonthlyCharges                           float64\n",
       "TotalCharges                             float64\n",
       "gender_Male                                uint8\n",
       "SeniorCitizen_1                            uint8\n",
       "Partner_Yes                                uint8\n",
       "Dependents_No                              uint8\n",
       "Dependents_Yes                             uint8\n",
       "PhoneService_Yes                           uint8\n",
       "MultipleLines_No phone service             uint8\n",
       "MultipleLines_Yes                          uint8\n",
       "InternetService_Fiber optic                uint8\n",
       "InternetService_No                         uint8\n",
       "OnlineSecurity_No internet service         uint8\n",
       "OnlineSecurity_Yes                         uint8\n",
       "OnlineBackup_No internet service           uint8\n",
       "OnlineBackup_Yes                           uint8\n",
       "DeviceProtection_No internet service       uint8\n",
       "DeviceProtection_Yes                       uint8\n",
       "TechSupport_No internet service            uint8\n",
       "TechSupport_Yes                            uint8\n",
       "StreamingTV_No internet service            uint8\n",
       "StreamingTV_Yes                            uint8\n",
       "StreamingMovies_No internet service        uint8\n",
       "StreamingMovies_Yes                        uint8\n",
       "Contract_One year                          uint8\n",
       "Contract_Two year                          uint8\n",
       "PaperlessBilling_Yes                       uint8\n",
       "PaymentMethod_Credit card (automatic)      uint8\n",
       "PaymentMethod_Electronic check             uint8\n",
       "PaymentMethod_Mailed check                 uint8\n",
       "dtype: object"
      ]
     },
     "execution_count": 88,
     "metadata": {},
     "output_type": "execute_result"
    }
   ],
   "source": [
    "df_desafio.dtypes"
   ]
  },
  {
   "cell_type": "code",
   "execution_count": 89,
   "metadata": {},
   "outputs": [
    {
     "data": {
      "text/plain": [
       "tenure                                   0\n",
       "MonthlyCharges                           0\n",
       "TotalCharges                             0\n",
       "gender_Male                              0\n",
       "SeniorCitizen_1                          0\n",
       "Partner_Yes                              0\n",
       "Dependents_No                            0\n",
       "Dependents_Yes                           0\n",
       "PhoneService_Yes                         0\n",
       "MultipleLines_No phone service           0\n",
       "MultipleLines_Yes                        0\n",
       "InternetService_Fiber optic              0\n",
       "InternetService_No                       0\n",
       "OnlineSecurity_No internet service       0\n",
       "OnlineSecurity_Yes                       0\n",
       "OnlineBackup_No internet service         0\n",
       "OnlineBackup_Yes                         0\n",
       "DeviceProtection_No internet service     0\n",
       "DeviceProtection_Yes                     0\n",
       "TechSupport_No internet service          0\n",
       "TechSupport_Yes                          0\n",
       "StreamingTV_No internet service          0\n",
       "StreamingTV_Yes                          0\n",
       "StreamingMovies_No internet service      0\n",
       "StreamingMovies_Yes                      0\n",
       "Contract_One year                        0\n",
       "Contract_Two year                        0\n",
       "PaperlessBilling_Yes                     0\n",
       "PaymentMethod_Credit card (automatic)    0\n",
       "PaymentMethod_Electronic check           0\n",
       "PaymentMethod_Mailed check               0\n",
       "dtype: int64"
      ]
     },
     "execution_count": 89,
     "metadata": {},
     "output_type": "execute_result"
    }
   ],
   "source": [
    "df_desafio.isnull().sum()"
   ]
  },
  {
   "cell_type": "code",
   "execution_count": 90,
   "metadata": {},
   "outputs": [],
   "source": [
    "pred = ada_boost.predict(df_desafio)"
   ]
  },
  {
   "cell_type": "code",
   "execution_count": 91,
   "metadata": {},
   "outputs": [
    {
     "data": {
      "text/plain": [
       "array([0, 0, 1, ..., 0, 1, 0], dtype=int64)"
      ]
     },
     "execution_count": 91,
     "metadata": {},
     "output_type": "execute_result"
    }
   ],
   "source": [
    "pred"
   ]
  },
  {
   "cell_type": "code",
   "execution_count": 92,
   "metadata": {},
   "outputs": [
    {
     "data": {
      "text/plain": [
       "(1409,)"
      ]
     },
     "execution_count": 92,
     "metadata": {},
     "output_type": "execute_result"
    }
   ],
   "source": [
    "pred.shape"
   ]
  },
  {
   "cell_type": "code",
   "execution_count": 93,
   "metadata": {},
   "outputs": [],
   "source": [
    "sub = pd.DataFrame({'id':test.id,'Churn':pred})"
   ]
  },
  {
   "cell_type": "code",
   "execution_count": 94,
   "metadata": {},
   "outputs": [
    {
     "data": {
      "text/html": [
       "<div>\n",
       "<style scoped>\n",
       "    .dataframe tbody tr th:only-of-type {\n",
       "        vertical-align: middle;\n",
       "    }\n",
       "\n",
       "    .dataframe tbody tr th {\n",
       "        vertical-align: top;\n",
       "    }\n",
       "\n",
       "    .dataframe thead th {\n",
       "        text-align: right;\n",
       "    }\n",
       "</style>\n",
       "<table border=\"1\" class=\"dataframe\">\n",
       "  <thead>\n",
       "    <tr style=\"text-align: right;\">\n",
       "      <th></th>\n",
       "      <th>id</th>\n",
       "      <th>Churn</th>\n",
       "    </tr>\n",
       "  </thead>\n",
       "  <tbody>\n",
       "    <tr>\n",
       "      <th>0</th>\n",
       "      <td>5027</td>\n",
       "      <td>0</td>\n",
       "    </tr>\n",
       "    <tr>\n",
       "      <th>1</th>\n",
       "      <td>1733</td>\n",
       "      <td>0</td>\n",
       "    </tr>\n",
       "    <tr>\n",
       "      <th>2</th>\n",
       "      <td>5384</td>\n",
       "      <td>1</td>\n",
       "    </tr>\n",
       "    <tr>\n",
       "      <th>3</th>\n",
       "      <td>6554</td>\n",
       "      <td>0</td>\n",
       "    </tr>\n",
       "    <tr>\n",
       "      <th>4</th>\n",
       "      <td>364</td>\n",
       "      <td>0</td>\n",
       "    </tr>\n",
       "    <tr>\n",
       "      <th>...</th>\n",
       "      <td>...</td>\n",
       "      <td>...</td>\n",
       "    </tr>\n",
       "    <tr>\n",
       "      <th>1404</th>\n",
       "      <td>4897</td>\n",
       "      <td>0</td>\n",
       "    </tr>\n",
       "    <tr>\n",
       "      <th>1405</th>\n",
       "      <td>6940</td>\n",
       "      <td>0</td>\n",
       "    </tr>\n",
       "    <tr>\n",
       "      <th>1406</th>\n",
       "      <td>804</td>\n",
       "      <td>0</td>\n",
       "    </tr>\n",
       "    <tr>\n",
       "      <th>1407</th>\n",
       "      <td>1143</td>\n",
       "      <td>1</td>\n",
       "    </tr>\n",
       "    <tr>\n",
       "      <th>1408</th>\n",
       "      <td>5773</td>\n",
       "      <td>0</td>\n",
       "    </tr>\n",
       "  </tbody>\n",
       "</table>\n",
       "<p>1409 rows × 2 columns</p>\n",
       "</div>"
      ],
      "text/plain": [
       "        id  Churn\n",
       "0     5027      0\n",
       "1     1733      0\n",
       "2     5384      1\n",
       "3     6554      0\n",
       "4      364      0\n",
       "...    ...    ...\n",
       "1404  4897      0\n",
       "1405  6940      0\n",
       "1406   804      0\n",
       "1407  1143      1\n",
       "1408  5773      0\n",
       "\n",
       "[1409 rows x 2 columns]"
      ]
     },
     "execution_count": 94,
     "metadata": {},
     "output_type": "execute_result"
    }
   ],
   "source": [
    "sub"
   ]
  },
  {
   "cell_type": "code",
   "execution_count": 95,
   "metadata": {},
   "outputs": [],
   "source": [
    "# Criando arquivo de submissão\n",
    "\n",
    "pd.DataFrame({'id':test.id,'Churn':pred}).to_csv(\"answer5.csv\", index= False)"
   ]
  },
  {
   "cell_type": "code",
   "execution_count": 96,
   "metadata": {},
   "outputs": [
    {
     "data": {
      "text/plain": [
       "0.23491838183108588"
      ]
     },
     "execution_count": 96,
     "metadata": {},
     "output_type": "execute_result"
    }
   ],
   "source": [
    "#balanceamento da base\n",
    "sub.Churn.sum()/sub.shape[0] "
   ]
  },
  {
   "cell_type": "code",
   "execution_count": null,
   "metadata": {},
   "outputs": [],
   "source": []
  }
 ],
 "metadata": {
  "kernelspec": {
   "display_name": "Python 3",
   "language": "python",
   "name": "python3"
  },
  "language_info": {
   "codemirror_mode": {
    "name": "ipython",
    "version": 3
   },
   "file_extension": ".py",
   "mimetype": "text/x-python",
   "name": "python",
   "nbconvert_exporter": "python",
   "pygments_lexer": "ipython3",
   "version": "3.7.6"
  }
 },
 "nbformat": 4,
 "nbformat_minor": 4
}
